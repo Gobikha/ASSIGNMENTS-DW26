{
  "nbformat": 4,
  "nbformat_minor": 0,
  "metadata": {
    "colab": {
      "provenance": [],
      "authorship_tag": "ABX9TyMYVVrDCTbO0Y12+49FNAdu",
      "include_colab_link": true
    },
    "kernelspec": {
      "name": "python3",
      "display_name": "Python 3"
    },
    "language_info": {
      "name": "python"
    }
  },
  "cells": [
    {
      "cell_type": "markdown",
      "metadata": {
        "id": "view-in-github",
        "colab_type": "text"
      },
      "source": [
        "<a href=\"https://colab.research.google.com/github/Gobikha/ASSIGNMENTS-DW26/blob/main/ASSIGNMENT_01.ipynb\" target=\"_parent\"><img src=\"https://colab.research.google.com/assets/colab-badge.svg\" alt=\"Open In Colab\"/></a>"
      ]
    },
    {
      "cell_type": "markdown",
      "source": [
        "Registration and Login system using Python\n"
      ],
      "metadata": {
        "id": "1Wx8PWXr2o8R"
      }
    },
    {
      "cell_type": "code",
      "source": [
        "import re\n",
        "import csv"
      ],
      "metadata": {
        "id": "E5ZEvpnl2wNP"
      },
      "execution_count": 1,
      "outputs": []
    },
    {
      "cell_type": "code",
      "source": [
        "print(\"Welcome back! To Login, you have to register using a valid email id\\n\")\n",
        "print(\"If you would like to regiser type YES, else type NO\\n\")\n",
        "A= input()\n",
        "if A ==\"NO\":\n",
        "  print(\"Thank you for your response\")\n",
        "  exit()\n"
      ],
      "metadata": {
        "colab": {
          "base_uri": "https://localhost:8080/"
        },
        "id": "kAgYpvGH3ZBo",
        "outputId": "ce44006d-8714-4e11-822f-ecf92b7a335a"
      },
      "execution_count": 2,
      "outputs": [
        {
          "name": "stdout",
          "output_type": "stream",
          "text": [
            "Welcome back! To Login, you have to register using a valid email id\n",
            "\n",
            "If you would like to regiser type YES, else type NO\n",
            "\n",
            "YES\n"
          ]
        }
      ]
    },
    {
      "cell_type": "code",
      "source": [
        "if A == \"YES\" or A == \"yes\":\n",
        "    print(\"Please enter a valid email id to proceed\\n\")\n",
        "    \n",
        "    condition='[A-Za-z]+[A-Za-z0-9_+*]+@[A-Za-z0-9]+\\.[A-Za-z]{2,}'\n",
        "    def check(Email):\n",
        "      if re.search(\"^1\",Email):\n",
        "          print(\"Invalid email\")\n",
        "      else:\n",
        "          if(re.fullmatch(condition,Email)):\n",
        "              print(\"Valid email\\n\")\n",
        "          else:\n",
        "              print(\"Invalid email-II\")\n",
        "              Email=input(\"Enter your Email id:  \")\n",
        "              check(Email)\n",
        "\n"
      ],
      "metadata": {
        "colab": {
          "base_uri": "https://localhost:8080/"
        },
        "id": "OQgI1F2c3ujh",
        "outputId": "60311906-a28a-45d6-9c7a-17df00191fb6"
      },
      "execution_count": 3,
      "outputs": [
        {
          "output_type": "stream",
          "name": "stdout",
          "text": [
            "Please enter a valid email id to proceed\n",
            "\n"
          ]
        }
      ]
    },
    {
      "cell_type": "code",
      "source": [
        "import getpass\n",
        "Email=input(\"Enter your Email id:  \")\n",
        "check(Email)\n",
        "print(\"PASSWORD Instructions:\\n  1)Length should be greater than 8 and less than 16\\n  2)Atleast one capital and one small letter\\n  3)Atleast 1 number\\n  4)Either of the special characters-@#$! \\n \")\n",
        "\n"
      ],
      "metadata": {
        "colab": {
          "base_uri": "https://localhost:8080/"
        },
        "id": "0jd1kVRw36j_",
        "outputId": "2e1b5b45-e56d-4a2c-b73e-de043f06a0df"
      },
      "execution_count": 6,
      "outputs": [
        {
          "output_type": "stream",
          "name": "stdout",
          "text": [
            "Enter your Email id:  abc@asc.com\n",
            "Valid email\n",
            "\n",
            "PASSWORD Instructions:\n",
            "  1)Length should be greater than 8 and less than 16\n",
            "  2)Atleast one capital and one small letter\n",
            "  3)Atleast 1 number\n",
            "  4)Either of the special characters-@#$! \n",
            " \n"
          ]
        }
      ]
    },
    {
      "cell_type": "code",
      "source": [
        "def get():\n",
        "        Password=input()\n",
        "        if (len(Password)<8 or len(Password)>16):\n",
        "            print(\"Password length should be from 8 to 16 characters. Please enter a valid Password\")\n",
        "            print(\"Do you want to enter correct password now? press (Y/y)\")\n",
        "            ch=input()\n",
        "            if ch == 'Y' or ch == 'y':\n",
        "                print(\"Please enter your Password: \")\n",
        "                get()\n",
        "        elif not re.search(\"[A-Z]\",Password):\n",
        "            print(\"Invalid Password. Please enter a valid Password\")\n",
        "            get()\n",
        "        elif not re.search(\"[a-z]\",Password):\n",
        "            print(\"Invalid Password. Please enter a valid Password\")\n",
        "            get()\n",
        "        elif not re.search(\"[0-9]\",Password):\n",
        "            print(\"Invalid Password. Please enter a valid Password\")\n",
        "            get()\n",
        "        elif not re.search(\"[@$!#]\",Password):\n",
        "            print(\"Invalid Password. Please enter a valid Password\")\n",
        "            get()\n",
        "        else:\n",
        "            print(\"Password is valid\\n\")\n",
        "            return Password\n",
        "print(\"Please enter your Password: \")\n",
        "Password = get()\n",
        "print(\"The correct Password is \"+Password) \n",
        "print(\"Your have been successfully registered\\n\")\n"
      ],
      "metadata": {
        "colab": {
          "base_uri": "https://localhost:8080/"
        },
        "id": "gToB1AF35CJO",
        "outputId": "4a16f28c-1f44-4266-c3ca-e358893f0234"
      },
      "execution_count": 9,
      "outputs": [
        {
          "output_type": "stream",
          "name": "stdout",
          "text": [
            "Please enter your Password: \n",
            "Abcdefgh@1\n",
            "Password is valid\n",
            "\n",
            "The correct Password is Abcdefgh@1\n",
            "Your have been successfully registered\n",
            "\n"
          ]
        }
      ]
    },
    {
      "cell_type": "code",
      "source": [
        "import csv\n",
        "with open(\"Login.csv\",'a') as file:\n",
        "  info=csv.writer(file)\n",
        "  info.writerow([Email,Password])"
      ],
      "metadata": {
        "id": "rWJHA2WU5R8M"
      },
      "execution_count": 10,
      "outputs": []
    },
    {
      "cell_type": "markdown",
      "source": [
        "Registring a mail id and setting a password\n"
      ],
      "metadata": {
        "id": "SyKK7qPK71tc"
      }
    },
    {
      "cell_type": "code",
      "source": [
        "import re\n",
        "import getpass\n",
        "import csv\n"
      ],
      "metadata": {
        "id": "6orb0oMZ8jVk"
      },
      "execution_count": 11,
      "outputs": []
    },
    {
      "cell_type": "code",
      "source": [
        "def getpwd():\n",
        "      print(\"Have you forgotten your Password? Type YES to retrieve or NO to create a new password\")\n",
        "      F=input()\n",
        "      if F==\"YES\":\n",
        "        f2=open(\"Login.csv\", \"r\")\n",
        "        rows=csv.reader(f2)\n",
        "        userId = input(\"Enter the user-id: \")\n",
        "        flag = True\n",
        "        for record in rows:\n",
        "          if record[0]==userId:\n",
        "            print(\"The password is: \", record[1])\n",
        "            flag = False\n",
        "            break\n",
        "          if flag:\n",
        "            print(\"User-id not found\")\n",
        "            print(\"Please create a new user id :\")\n",
        "            Email=input(\"Enter your email id to register:  \")\n",
        "            check(Email)\n",
        "            print(\"Please enter your Password: \")\n",
        "            Password = get()\n",
        "            with open(\"Login.csv\",'a') as file:\n",
        "              info=csv.writer(file)\n",
        "              info.writerow([Email,Password])\n",
        "            print(\"Your have been successfully registered\\n\")\n",
        "            login()\n",
        "          if F==\"NO\":\n",
        "            print('Type your new Password')\n",
        "            Password = get()\n",
        "            with open(\"Login.csv\",'w') as file:\n",
        "              info=csv.writer(file)\n",
        "              info.writerow([Email,Password])\n",
        "              print(\"Your have been successfully registered\\n\")\n",
        "              login()\n"
      ],
      "metadata": {
        "id": "z8cng49q8uRq"
      },
      "execution_count": 12,
      "outputs": []
    },
    {
      "cell_type": "code",
      "source": [
        "def login():\n",
        "      f2=open(\"Login.csv\", \"r\")\n",
        "      rows=csv.reader(f2)\n",
        "      userId = input(\"Enter the user-id: \")\n",
        "      Pwd=input(\"Enter the Password: \")\n",
        "      flag = True\n",
        "      for record in rows:\n",
        "          if record:\n",
        "              if record[0]==userId and record[1]==Pwd:\n",
        "                  print(\"You are now logged in\")\n",
        "                  flag = False\n",
        "                  break\n",
        "      if flag:\n",
        "          print(\"Invalid Credentials\")\n",
        "          getpwd()"
      ],
      "metadata": {
        "id": "PPmi6siW9pM8"
      },
      "execution_count": 17,
      "outputs": []
    },
    {
      "cell_type": "code",
      "source": [
        "def fcheck():\n",
        "      print(\"Please provide your username. We need to verify whether it is registered!\")\n",
        "      Username=input(\"Enter your Username : \")\n",
        "      with open(\"Login.csv\",\"r\") as f1:\n",
        "          reader = csv.reader(f1)\n",
        "          for row in reader:\n",
        "              if row:\n",
        "                  if row[0]== Username:\n",
        "                      log = True\n",
        "                  else:\n",
        "                      log = False\n",
        "              \n",
        "          if log==False:\n",
        "            print(\"Username does not exists\")\n",
        "            print(\"Please create a new user id :\")\n",
        "            Email=input(\"Enter your email id to register:  \")\n",
        "            check(Email)\n",
        "            print(\"Please enter your Password: \")\n",
        "            Password = get()\n",
        "            with open(\"Login.csv\",'a') as file:\n",
        "              info=csv.writer(file)\n",
        "              info.writerow([Email,Password])\n",
        "            print(\"Your have been successfully registered\\n\")\n",
        "            login()\n",
        "\n",
        "          else: \n",
        "            print(\"User Name exists! You may now proceed to login!\")\n",
        "            login()\n",
        "\n",
        "\n",
        "fcheck()"
      ],
      "metadata": {
        "colab": {
          "base_uri": "https://localhost:8080/"
        },
        "id": "MoBsYco8Ah_B",
        "outputId": "f72f3215-046d-41bc-dbad-956bac983241"
      },
      "execution_count": 18,
      "outputs": [
        {
          "output_type": "stream",
          "name": "stdout",
          "text": [
            "Please provide your username. We need to verify whether it is registered!\n",
            "Enter your Username : gobzi31@yahoo.com\n",
            "Username does not exists\n",
            "Please create a new user id :\n",
            "Enter your email id to register:  gobzi31@yahoo.com\n",
            "Valid email\n",
            "\n",
            "Please enter your Password: \n",
            "Gobikha$31\n",
            "Password is valid\n",
            "\n",
            "Your have been successfully registered\n",
            "\n",
            "Enter the user-id: gobzi31@yahoo.com\n",
            "Enter the Password: Gobikha$31\n",
            "You are now logged in\n"
          ]
        }
      ]
    },
    {
      "cell_type": "code",
      "source": [
        "import re\n",
        "import csv\n",
        "\n",
        "print(\"Welcome back! To Login, you have to register using a valid email id\\n\")\n",
        "print(\"If you would like to regiser type YES, else type NO\\n\")\n",
        "A= input()\n",
        "if A ==\"NO\":\n",
        "  print(\"Thank you for your response\")\n",
        "  exit()\n",
        "\n",
        "if A == \"YES\" or A == \"yes\":\n",
        "    print(\"Please enter a valid email id to proceed\\n\")\n",
        "    \n",
        "    condition='[A-Za-z]+[A-Za-z0-9_+*]+@[A-Za-z0-9]+\\.[A-Za-z]{2,}'\n",
        "    def check(Email):\n",
        "      if re.search(\"^1\",Email):\n",
        "          print(\"Invalid email\")\n",
        "      else:\n",
        "          if(re.fullmatch(condition,Email)):\n",
        "              print(\"Valid email\\n\")\n",
        "          else:\n",
        "              print(\"Invalid email-II\")\n",
        "              Email=input(\"Enter your Email id:  \")\n",
        "              check(Email)\n",
        "\n",
        "    Email=input(\"Enter your Email id:  \")\n",
        "    check(Email)\n",
        "\n",
        "import getpass\n",
        "print(\"PASSWORD Instructions:\\n  1)Length should be greater than 8 and less than 16\\n  2)Atleast one capital and one small letter\\n  3)Atleast 1 number\\n  4)Either of the special characters-@#$! \\n \")\n",
        "\n",
        "\n",
        "def get():\n",
        "        Password=input()\n",
        "        if (len(Password)<8 or len(Password)>16):\n",
        "            print(\"Password length should be from 8 to 16 characters. Please enter a valid Password\")\n",
        "            print(\"Do you want to enter correct password now? press (Y/y)\")\n",
        "            ch=input()\n",
        "            if ch == 'Y' or ch == 'y':\n",
        "                print(\"Please enter your Password: \")\n",
        "                get()\n",
        "        elif not re.search(\"[A-Z]\",Password):\n",
        "            print(\"Invalid Password. Please enter a valid Password\")\n",
        "            get()\n",
        "        elif not re.search(\"[a-z]\",Password):\n",
        "            print(\"Invalid Password. Please enter a valid Password\")\n",
        "            get()\n",
        "        elif not re.search(\"[0-9]\",Password):\n",
        "            print(\"Invalid Password. Please enter a valid Password\")\n",
        "            get()\n",
        "        elif not re.search(\"[@$!#]\",Password):\n",
        "            print(\"Invalid Password. Please enter a valid Password\")\n",
        "            get()\n",
        "        else:\n",
        "            print(\"Password is valid\\n\")\n",
        "            return Password\n",
        "    \n",
        "print(\"Please enter your Password: \")\n",
        "Password = get()\n",
        "print(\"The correct Password is \"+Password) \n",
        "print(\"Your have been successfully registered\\n\")\n",
        "import csv\n",
        "with open(\"Login.csv\",'a') as file:\n",
        "      info=csv.writer(file)\n",
        "      info.writerow([Email,Password])\n",
        "\n",
        "\n",
        "import re\n",
        "import getpass\n",
        "import csv\n",
        "\n",
        "def getpwd():\n",
        "      print(\"Have you forgotten your Password? Type YES to retrieve or NO to create a new password\")\n",
        "      F=input()\n",
        "      if F==\"YES\":\n",
        "        f2=open(\"Login.csv\", \"r\")\n",
        "        rows=csv.reader(f2)\n",
        "        userId = input(\"Enter the user-id: \")\n",
        "        flag = True\n",
        "        for record in rows:\n",
        "          if record[0]==userId:\n",
        "            print(\"The password is: \", record[1])\n",
        "            flag = False\n",
        "            break\n",
        "          if flag:\n",
        "            print(\"User-id not found\")\n",
        "            print(\"Please create a new user id :\")\n",
        "            Email=input(\"Enter your email id to register:  \")\n",
        "            check(Email)\n",
        "            print(\"Please enter your Password: \")\n",
        "            Password = get()\n",
        "            with open(\"Login.csv\",'a') as file:\n",
        "              info=csv.writer(file)\n",
        "              info.writerow([Email,Password])\n",
        "            print(\"Your have been successfully registered\\n\")\n",
        "            login()\n",
        "          if F==\"NO\":\n",
        "            print('Type your new Password')\n",
        "            Password = get()\n",
        "            with open(\"Login.csv\",'w') as file:\n",
        "              info=csv.writer(file)\n",
        "              info.writerow([Email,Password])\n",
        "              print(\"Your have been successfully registered\\n\")\n",
        "              login()\n",
        "\n",
        "\n",
        "def login():\n",
        "      f2=open(\"Login.csv\", \"r\")\n",
        "      rows=csv.reader(f2)\n",
        "      userId = input(\"Enter the user-id: \")\n",
        "      Pwd=input(\"Enter the Password: \")\n",
        "      flag = True\n",
        "      for record in rows:\n",
        "          if record:\n",
        "              if record[0]==userId and record[1]==Pwd:\n",
        "                  print(\"You are now logged in\")\n",
        "                  flag = False\n",
        "                  break\n",
        "      if flag:\n",
        "          print(\"Invalid Credentials\")\n",
        "          getpwd()\n",
        "\n",
        "def fcheck():\n",
        "      print(\"Please provide your username. We need to verify whether it is registered!\")\n",
        "      Username=input(\"Enter your Username : \")\n",
        "      with open(\"Login.csv\",\"r\") as f1:\n",
        "          reader = csv.reader(f1)\n",
        "          for row in reader:\n",
        "              if row:\n",
        "                  if row[0]== Username:\n",
        "                      log = True\n",
        "                  else:\n",
        "                      log = False\n",
        "              \n",
        "          if log==False:\n",
        "            print(\"Username does not exists\")\n",
        "            print(\"Please create a new user id :\")\n",
        "            Email=input(\"Enter your email id to register:  \")\n",
        "            check(Email)\n",
        "            print(\"Please enter your Password: \")\n",
        "            Password = get()\n",
        "            with open(\"Login.csv\",'a') as file:\n",
        "              info=csv.writer(file)\n",
        "              info.writerow([Email,Password])\n",
        "            print(\"Your have been successfully registered\\n\")\n",
        "            login()\n",
        "\n",
        "          else: \n",
        "            print(\"User Name exists! You may now proceed to login!\")\n",
        "            login()\n",
        "\n",
        "fcheck()"
      ],
      "metadata": {
        "colab": {
          "base_uri": "https://localhost:8080/"
        },
        "id": "_f-asqKthBjy",
        "outputId": "d297db38-dd6e-43fd-853e-d2ca0ceb668f"
      },
      "execution_count": 1,
      "outputs": [
        {
          "output_type": "stream",
          "name": "stdout",
          "text": [
            "Welcome back! To Login, you have to register using a valid email id\n",
            "\n",
            "If you would like to regiser type YES, else type NO\n",
            "\n",
            "YES\n",
            "Please enter a valid email id to proceed\n",
            "\n",
            "Enter your Email id:  gobzi9999@hotmail.com\n",
            "Valid email\n",
            "\n",
            "PASSWORD Instructions:\n",
            "  1)Length should be greater than 8 and less than 16\n",
            "  2)Atleast one capital and one small letter\n",
            "  3)Atleast 1 number\n",
            "  4)Either of the special characters-@#$! \n",
            " \n",
            "Please enter your Password: \n",
            "Gobikha$99\n",
            "Password is valid\n",
            "\n",
            "The correct Password is Gobikha$99\n",
            "Your have been successfully registered\n",
            "\n",
            "Please provide your username. We need to verify whether it is registered!\n",
            "Enter your Username : gobzi9999@hotmail.com\n",
            "User Name exists! You may now proceed to login!\n",
            "Enter the user-id: gobzi9999@hotmail.com\n",
            "Enter the Password: Gobikha$99\n",
            "You are now logged in\n"
          ]
        }
      ]
    }
  ]
}