{
  "cells": [
    {
      "cell_type": "markdown",
      "metadata": {
        "id": "view-in-github",
        "colab_type": "text"
      },
      "source": [
        "<a href=\"https://colab.research.google.com/github/Gobikha/ASSIGNMENTS-DW26/blob/main/Task02_Numpy.ipynb\" target=\"_parent\"><img src=\"https://colab.research.google.com/assets/colab-badge.svg\" alt=\"Open In Colab\"/></a>"
      ]
    },
    {
      "cell_type": "markdown",
      "metadata": {
        "id": "uLOY-zVVuFb3"
      },
      "source": [
        "# Numpy\n",
        "\n"
      ]
    },
    {
      "cell_type": "markdown",
      "metadata": {
        "id": "HhldaZ0PuFb7"
      },
      "source": [
        "#### 1. Import the numpy package under the name `np` (★☆☆) \n",
        "(**hint**: import … as …)"
      ]
    },
    {
      "cell_type": "code",
      "execution_count": 2,
      "metadata": {
        "collapsed": true,
        "id": "FHDbAGNLuFb9"
      },
      "outputs": [],
      "source": [
        "import numpy as np"
      ]
    },
    {
      "cell_type": "markdown",
      "metadata": {
        "id": "d2VLQhW4uFb-"
      },
      "source": [
        "#### 2. Print the numpy version and the configuration (★☆☆) \n",
        "(**hint**: np.\\_\\_version\\_\\_, np.show\\_config)"
      ]
    },
    {
      "cell_type": "code",
      "execution_count": null,
      "metadata": {
        "id": "JiXkrXcquFb_",
        "colab": {
          "base_uri": "https://localhost:8080/"
        },
        "outputId": "5830fb06-83d2-444b-9afa-42a6c97f853f"
      },
      "outputs": [
        {
          "output_type": "stream",
          "name": "stdout",
          "text": [
            "blas_mkl_info:\n",
            "  NOT AVAILABLE\n",
            "blis_info:\n",
            "  NOT AVAILABLE\n",
            "openblas_info:\n",
            "    libraries = ['openblas', 'openblas']\n",
            "    library_dirs = ['/usr/local/lib']\n",
            "    language = c\n",
            "    define_macros = [('HAVE_CBLAS', None)]\n",
            "    runtime_library_dirs = ['/usr/local/lib']\n",
            "blas_opt_info:\n",
            "    libraries = ['openblas', 'openblas']\n",
            "    library_dirs = ['/usr/local/lib']\n",
            "    language = c\n",
            "    define_macros = [('HAVE_CBLAS', None)]\n",
            "    runtime_library_dirs = ['/usr/local/lib']\n",
            "lapack_mkl_info:\n",
            "  NOT AVAILABLE\n",
            "openblas_lapack_info:\n",
            "    libraries = ['openblas', 'openblas']\n",
            "    library_dirs = ['/usr/local/lib']\n",
            "    language = c\n",
            "    define_macros = [('HAVE_CBLAS', None)]\n",
            "    runtime_library_dirs = ['/usr/local/lib']\n",
            "lapack_opt_info:\n",
            "    libraries = ['openblas', 'openblas']\n",
            "    library_dirs = ['/usr/local/lib']\n",
            "    language = c\n",
            "    define_macros = [('HAVE_CBLAS', None)]\n",
            "    runtime_library_dirs = ['/usr/local/lib']\n",
            "Supported SIMD extensions in this NumPy install:\n",
            "    baseline = SSE,SSE2,SSE3\n",
            "    found = SSSE3,SSE41,POPCNT,SSE42,AVX,F16C,FMA3,AVX2\n",
            "    not found = AVX512F,AVX512CD,AVX512_KNL,AVX512_KNM,AVX512_SKX,AVX512_CLX,AVX512_CNL,AVX512_ICL\n"
          ]
        }
      ],
      "source": [
        "(np.__version__)\n",
        "np.show_config()"
      ]
    },
    {
      "cell_type": "markdown",
      "metadata": {
        "id": "fnY7Zi8euFb_"
      },
      "source": [
        "#### 3. Create a null vector of size 10 (★☆☆) \n",
        "(**hint**: np.zeros)"
      ]
    },
    {
      "cell_type": "code",
      "execution_count": null,
      "metadata": {
        "id": "USfz4eBxuFcA",
        "colab": {
          "base_uri": "https://localhost:8080/"
        },
        "outputId": "0614bb95-ebc6-4f1f-df23-bae09394436a"
      },
      "outputs": [
        {
          "output_type": "execute_result",
          "data": {
            "text/plain": [
              "array([0., 0., 0., 0., 0., 0., 0., 0., 0., 0.])"
            ]
          },
          "metadata": {},
          "execution_count": 9
        }
      ],
      "source": [
        "z=np.zeros(10) # Here np.zeros will create an array full of zeros with respect to the requirment.\n",
        "z"
      ]
    },
    {
      "cell_type": "markdown",
      "metadata": {
        "id": "vZEtd3IhuFcA"
      },
      "source": [
        "#### 4.  How to find the memory size of any array (★☆☆) \n",
        "(**hint**: size, itemsize)"
      ]
    },
    {
      "cell_type": "code",
      "source": [
        "print(z.size*z.itemsize) #memory size of array\n",
        "print(z.size) #size of an array\n",
        "print(z.itemsize) # no.of elements in an array"
      ],
      "metadata": {
        "colab": {
          "base_uri": "https://localhost:8080/"
        },
        "id": "pCeVbe-NgN2a",
        "outputId": "ebdd7a07-0da1-4a1a-d3b7-41a52f41feac"
      },
      "execution_count": null,
      "outputs": [
        {
          "output_type": "stream",
          "name": "stdout",
          "text": [
            "80\n",
            "10\n",
            "8\n"
          ]
        }
      ]
    },
    {
      "cell_type": "markdown",
      "metadata": {
        "id": "QhZPtu8MuFcB"
      },
      "source": [
        "#### 5.  How to get the documentation of the numpy add function from the command line? (★☆☆) \n",
        "(**hint**: np.info)"
      ]
    },
    {
      "cell_type": "code",
      "execution_count": null,
      "metadata": {
        "collapsed": true,
        "id": "P0OdCNqsuFcB",
        "colab": {
          "base_uri": "https://localhost:8080/"
        },
        "outputId": "c5157d22-2454-4f20-fb4e-3570ea4310e8"
      },
      "outputs": [
        {
          "output_type": "stream",
          "name": "stdout",
          "text": [
            "add(x1, x2, /, out=None, *, where=True, casting='same_kind', order='K', dtype=None, subok=True[, signature, extobj])\n",
            "\n",
            "Add arguments element-wise.\n",
            "\n",
            "Parameters\n",
            "----------\n",
            "x1, x2 : array_like\n",
            "    The arrays to be added.\n",
            "    If ``x1.shape != x2.shape``, they must be broadcastable to a common\n",
            "    shape (which becomes the shape of the output).\n",
            "out : ndarray, None, or tuple of ndarray and None, optional\n",
            "    A location into which the result is stored. If provided, it must have\n",
            "    a shape that the inputs broadcast to. If not provided or None,\n",
            "    a freshly-allocated array is returned. A tuple (possible only as a\n",
            "    keyword argument) must have length equal to the number of outputs.\n",
            "where : array_like, optional\n",
            "    This condition is broadcast over the input. At locations where the\n",
            "    condition is True, the `out` array will be set to the ufunc result.\n",
            "    Elsewhere, the `out` array will retain its original value.\n",
            "    Note that if an uninitialized `out` array is created via the default\n",
            "    ``out=None``, locations within it where the condition is False will\n",
            "    remain uninitialized.\n",
            "**kwargs\n",
            "    For other keyword-only arguments, see the\n",
            "    :ref:`ufunc docs <ufuncs.kwargs>`.\n",
            "\n",
            "Returns\n",
            "-------\n",
            "add : ndarray or scalar\n",
            "    The sum of `x1` and `x2`, element-wise.\n",
            "    This is a scalar if both `x1` and `x2` are scalars.\n",
            "\n",
            "Notes\n",
            "-----\n",
            "Equivalent to `x1` + `x2` in terms of array broadcasting.\n",
            "\n",
            "Examples\n",
            "--------\n",
            ">>> np.add(1.0, 4.0)\n",
            "5.0\n",
            ">>> x1 = np.arange(9.0).reshape((3, 3))\n",
            ">>> x2 = np.arange(3.0)\n",
            ">>> np.add(x1, x2)\n",
            "array([[  0.,   2.,   4.],\n",
            "       [  3.,   5.,   7.],\n",
            "       [  6.,   8.,  10.]])\n",
            "\n",
            "The ``+`` operator can be used as a shorthand for ``np.add`` on ndarrays.\n",
            "\n",
            ">>> x1 = np.arange(9.0).reshape((3, 3))\n",
            ">>> x2 = np.arange(3.0)\n",
            ">>> x1 + x2\n",
            "array([[ 0.,  2.,  4.],\n",
            "       [ 3.,  5.,  7.],\n",
            "       [ 6.,  8., 10.]])\n"
          ]
        }
      ],
      "source": [
        "np.info(np.add)"
      ]
    },
    {
      "cell_type": "markdown",
      "metadata": {
        "id": "mTHfSJoFuFcC"
      },
      "source": [
        "#### 6.  Create a null vector of size 10 but the fifth value which is 1 (★☆☆) \n",
        "(**hint**: array\\[4\\])"
      ]
    },
    {
      "cell_type": "code",
      "execution_count": null,
      "metadata": {
        "id": "hzVQO7fbuFcC",
        "colab": {
          "base_uri": "https://localhost:8080/"
        },
        "outputId": "5bb72906-f4ca-4dfc-eb93-ba6b1109d7fa"
      },
      "outputs": [
        {
          "output_type": "execute_result",
          "data": {
            "text/plain": [
              "array([0., 0., 0., 0., 1., 0., 0., 0., 0., 0.])"
            ]
          },
          "metadata": {},
          "execution_count": 14
        }
      ],
      "source": [
        "Array=np.zeros(10);Array [4]=1\n",
        "Array"
      ]
    },
    {
      "cell_type": "markdown",
      "metadata": {
        "id": "rjnGV1z4uFcC"
      },
      "source": [
        "#### 7.  Create a vector with values ranging from 10 to 49 (★☆☆) \n",
        "(**hint**: np.arange)"
      ]
    },
    {
      "cell_type": "code",
      "execution_count": null,
      "metadata": {
        "id": "itwxSY3-uFcD",
        "colab": {
          "base_uri": "https://localhost:8080/"
        },
        "outputId": "cd0a4ca4-434e-40d7-ae2d-19323d9bc893"
      },
      "outputs": [
        {
          "output_type": "execute_result",
          "data": {
            "text/plain": [
              "array([10, 11, 12, 13, 14, 15, 16, 17, 18, 19, 20, 21, 22, 23, 24, 25, 26,\n",
              "       27, 28, 29, 30, 31, 32, 33, 34, 35, 36, 37, 38, 39, 40, 41, 42, 43,\n",
              "       44, 45, 46, 47, 48])"
            ]
          },
          "metadata": {},
          "execution_count": 16
        }
      ],
      "source": [
        "vector_values=np.arange(10,49)\n",
        "vector_values\n",
        "# np.range will Returns an array with evenly spaced elements as per the interval."
      ]
    },
    {
      "cell_type": "markdown",
      "metadata": {
        "id": "jKm-adxYuFcE"
      },
      "source": [
        "#### 8.  Reverse a vector (first element becomes last) (★☆☆) \n",
        "(**hint**: array\\[::-1\\])"
      ]
    },
    {
      "cell_type": "code",
      "execution_count": null,
      "metadata": {
        "id": "eqWNgfcjuFcE",
        "colab": {
          "base_uri": "https://localhost:8080/"
        },
        "outputId": "dcb2cf4c-3aca-42ae-b230-7afcefe11511"
      },
      "outputs": [
        {
          "output_type": "execute_result",
          "data": {
            "text/plain": [
              "array([48, 47, 46, 45, 44, 43, 42, 41, 40, 39, 38, 37, 36, 35, 34, 33, 32,\n",
              "       31, 30, 29, 28, 27, 26, 25, 24, 23, 22, 21, 20, 19, 18, 17, 16, 15,\n",
              "       14, 13, 12, 11, 10])"
            ]
          },
          "metadata": {},
          "execution_count": 17
        }
      ],
      "source": [
        "vector_values=vector_values[::-1]\n",
        "vector_values\n",
        "# [::-1] means reversing a string, list, or any iterable with an ordering."
      ]
    },
    {
      "cell_type": "markdown",
      "metadata": {
        "id": "RQaBu5T_uFcE"
      },
      "source": [
        "\n",
        "#### 9.  Create a 3x3 matrix with values ranging from 0 to 8 (★☆☆) \n",
        "(**hint**: reshape)"
      ]
    },
    {
      "cell_type": "code",
      "execution_count": null,
      "metadata": {
        "id": "W6B1EQHtuFcF",
        "colab": {
          "base_uri": "https://localhost:8080/"
        },
        "outputId": "37ec8154-3446-464c-99d6-d5af08cdc2d1"
      },
      "outputs": [
        {
          "output_type": "execute_result",
          "data": {
            "text/plain": [
              "array([[1, 2, 3],\n",
              "       [4, 5, 6],\n",
              "       [7, 8, 9]])"
            ]
          },
          "metadata": {},
          "execution_count": 20
        }
      ],
      "source": [
        "m=np.arange(1,10).reshape(3,3)\n",
        "m\n",
        "# np.reshape gives a new shape to an array without changing its data. "
      ]
    },
    {
      "cell_type": "markdown",
      "metadata": {
        "id": "0zLJdA9YuFcF"
      },
      "source": [
        "#### 10. Find indices of non-zero elements from \\[1,2,0,0,4,0\\] (★☆☆) \n",
        "(**hint**: np.nonzero)"
      ]
    },
    {
      "cell_type": "code",
      "execution_count": null,
      "metadata": {
        "id": "5UnU27xkuFcG",
        "colab": {
          "base_uri": "https://localhost:8080/"
        },
        "outputId": "be5960bc-a4cf-4793-ea7b-d7b2f531efce"
      },
      "outputs": [
        {
          "output_type": "execute_result",
          "data": {
            "text/plain": [
              "(array([0, 1, 4]),)"
            ]
          },
          "metadata": {},
          "execution_count": 21
        }
      ],
      "source": [
        "a=[1,2,0,0,4,0]\n",
        "b=np.nonzero(a)\n",
        "b\n",
        "# np.nonzero return the indices of the elements that are non-zero."
      ]
    },
    {
      "cell_type": "markdown",
      "metadata": {
        "id": "JgObMwu0uFcG"
      },
      "source": [
        "#### 11. Create a 3x3 identity matrix (★☆☆) \n",
        "(**hint**: np.eye)"
      ]
    },
    {
      "cell_type": "code",
      "execution_count": null,
      "metadata": {
        "id": "_xM20PB7uFcH",
        "colab": {
          "base_uri": "https://localhost:8080/"
        },
        "outputId": "7829acef-948f-48f4-b39d-585ca56ca600"
      },
      "outputs": [
        {
          "output_type": "execute_result",
          "data": {
            "text/plain": [
              "array([[1., 0., 0.],\n",
              "       [0., 1., 0.],\n",
              "       [0., 0., 1.]])"
            ]
          },
          "metadata": {},
          "execution_count": 22
        }
      ],
      "source": [
        "i=np.eye(3)\n",
        "i\n",
        "# where np.eye would create an identity matrix for the required size."
      ]
    },
    {
      "cell_type": "markdown",
      "metadata": {
        "id": "TtLMdFsruFcH"
      },
      "source": [
        "#### 12. Create a 3x3x3 array with random values (★☆☆) \n",
        "(**hint**: np.random.random)"
      ]
    },
    {
      "cell_type": "code",
      "execution_count": null,
      "metadata": {
        "collapsed": true,
        "id": "hWCtA96PuFcH"
      },
      "outputs": [],
      "source": [
        "ran=np.random.random((3,3,3))\n",
        "ran\n",
        "# np.random.random is one of the function for doing random sampling in numpy. "
      ]
    },
    {
      "cell_type": "markdown",
      "metadata": {
        "id": "-XnSWh_AuFcI"
      },
      "source": [
        "\n",
        "#### 13. Create a 10x10 array with random values and find the minimum and maximum values (★☆☆) \n",
        "(**hint**: min, max)"
      ]
    },
    {
      "cell_type": "code",
      "execution_count": null,
      "metadata": {
        "id": "gMRDcgyiuFcI",
        "colab": {
          "base_uri": "https://localhost:8080/"
        },
        "outputId": "ff68c037-2288-4626-df4f-ea6b0d52564b"
      },
      "outputs": [
        {
          "output_type": "stream",
          "name": "stdout",
          "text": [
            "THE MINIMUM VALUE OF THE ARRAY IS 0.0010452953796871167\n",
            "THE MAXIMUM VALUE OF THE ARRAY IS 0.9998757587296064\n"
          ]
        }
      ],
      "source": [
        "ran=np.random.random((10,10))\n",
        "print(\"THE MINIMUM VALUE OF THE ARRAY IS\",ran.min())\n",
        "print(\"THE MAXIMUM VALUE OF THE ARRAY IS\",ran.max())\n",
        "\n",
        "# Here the min and max will give you the minimum and the maximum values from the list of array"
      ]
    },
    {
      "cell_type": "markdown",
      "metadata": {
        "id": "nyFE7ptxuFcI"
      },
      "source": [
        "#### 14. Create a random vector of size 30 and find the mean value (★☆☆) \n",
        "(**hint**: mean)"
      ]
    },
    {
      "cell_type": "code",
      "execution_count": null,
      "metadata": {
        "id": "Z5Zn-bteuFcJ",
        "colab": {
          "base_uri": "https://localhost:8080/"
        },
        "outputId": "88950463-a793-42e3-f778-a5d249c81411"
      },
      "outputs": [
        {
          "output_type": "execute_result",
          "data": {
            "text/plain": [
              "0.4764333036221455"
            ]
          },
          "metadata": {},
          "execution_count": 28
        }
      ],
      "source": [
        "z=np.random.random(30)\n",
        "m=z.mean()\n",
        "m\n",
        "# .mean() will find you the total mean of the given array."
      ]
    },
    {
      "cell_type": "markdown",
      "metadata": {
        "id": "zMd0SrhguFcJ"
      },
      "source": [
        "#### 15. Create a 2d array with 1 on the border and 0 inside (★☆☆) \n",
        "(**hint**: array\\[1:-1, 1:-1\\])"
      ]
    },
    {
      "cell_type": "code",
      "execution_count": null,
      "metadata": {
        "id": "YYzXZ0WIuFcJ",
        "colab": {
          "base_uri": "https://localhost:8080/"
        },
        "outputId": "375c66f2-2cf2-4f6d-89e7-96d7d1fd7913"
      },
      "outputs": [
        {
          "output_type": "execute_result",
          "data": {
            "text/plain": [
              "array([[1., 1., 1., 1., 1.],\n",
              "       [1., 0., 0., 0., 1.],\n",
              "       [1., 0., 0., 0., 1.],\n",
              "       [1., 0., 0., 0., 1.],\n",
              "       [1., 1., 1., 1., 1.]])"
            ]
          },
          "metadata": {},
          "execution_count": 29
        }
      ],
      "source": [
        "x=np.ones((5,5))\n",
        "x[1:-1,1:-1]=0\n",
        "x\n",
        "# np.ones will create a matrix with all the values as 1"
      ]
    },
    {
      "cell_type": "markdown",
      "metadata": {
        "id": "dK_cDkwZuFcK"
      },
      "source": [
        "#### 16. How to add a border (filled with 0's) around an existing array? (★☆☆) \n",
        "(**hint**: np.pad)"
      ]
    },
    {
      "cell_type": "code",
      "execution_count": null,
      "metadata": {
        "id": "4N6rFmlOuFcK",
        "colab": {
          "base_uri": "https://localhost:8080/"
        },
        "outputId": "c6cd529d-da7d-4760-840b-b93313e829f8"
      },
      "outputs": [
        {
          "output_type": "execute_result",
          "data": {
            "text/plain": [
              "array([[0., 0., 0., 0., 0.],\n",
              "       [0., 1., 1., 1., 0.],\n",
              "       [0., 1., 1., 1., 0.],\n",
              "       [0., 1., 1., 1., 0.],\n",
              "       [0., 0., 0., 0., 0.]])"
            ]
          },
          "metadata": {},
          "execution_count": 30
        }
      ],
      "source": [
        "x=np.zeros((5,5)) # 01) without np.pad\n",
        "x[1:-1,1:-1]=1\n",
        "x"
      ]
    },
    {
      "cell_type": "code",
      "source": [
        "x=np.ones((3,3)) # 02) using np.pad\n",
        "x=np.pad(x,pad_width=1,mode='constant',constant_values=0)\n",
        "x\n",
        "# here np.pad is just used for padding the arrays and returns the padded array in which elements are padded to each axis."
      ],
      "metadata": {
        "colab": {
          "base_uri": "https://localhost:8080/"
        },
        "id": "gvz5a8dExoO2",
        "outputId": "03b4db15-7ddf-4df2-d213-dea10c6757b9"
      },
      "execution_count": null,
      "outputs": [
        {
          "output_type": "execute_result",
          "data": {
            "text/plain": [
              "array([[0., 0., 0., 0., 0.],\n",
              "       [0., 1., 1., 1., 0.],\n",
              "       [0., 1., 1., 1., 0.],\n",
              "       [0., 1., 1., 1., 0.],\n",
              "       [0., 0., 0., 0., 0.]])"
            ]
          },
          "metadata": {},
          "execution_count": 31
        }
      ]
    },
    {
      "cell_type": "markdown",
      "metadata": {
        "id": "0_Lw1g8yuFcK"
      },
      "source": [
        "#### 17. What is the result of the following expression? (★☆☆) \n",
        "(**hint**: NaN = not a number, inf = infinity)"
      ]
    },
    {
      "cell_type": "markdown",
      "metadata": {
        "id": "xrwHZJNkuFcK"
      },
      "source": [
        "```python\n",
        "0 * np.nan\n",
        "np.nan == np.nan\n",
        "np.inf > np.nan\n",
        "np.nan - np.nan\n",
        "0.3 == 3 * 0.1\n",
        "```"
      ]
    },
    {
      "cell_type": "code",
      "execution_count": null,
      "metadata": {
        "id": "6e8lw_LmuFcL",
        "colab": {
          "base_uri": "https://localhost:8080/"
        },
        "outputId": "c0c3eb60-10be-4444-a1e2-310d8ee0bebb"
      },
      "outputs": [
        {
          "output_type": "execute_result",
          "data": {
            "text/plain": [
              "False"
            ]
          },
          "metadata": {},
          "execution_count": 33
        }
      ],
      "source": [
        "0 * np.nan\n",
        "np.nan == np.nan\n",
        "np.inf > np.nan\n",
        "np.nan - np.nan\n",
        "0.3 == 3 * 0.1\n",
        "# np.nan and np.inf are special values defined in numpy where nan is abbreviated as not a number and inf is abbreviated as infinte."
      ]
    },
    {
      "cell_type": "markdown",
      "metadata": {
        "id": "3OFytIq2uFcL"
      },
      "source": [
        "#### 18. Create a 5x5 matrix with values 1,2,3,4 just below the diagonal (★☆☆) \n",
        "(**hint**: np.diag)"
      ]
    },
    {
      "cell_type": "code",
      "execution_count": null,
      "metadata": {
        "id": "nz5MuDF0uFcM"
      },
      "outputs": [],
      "source": [
        "dia=np.diag([1,2,3,4])\n",
        "dia\n",
        "# here np.diag will create a diagonal matrix with whcih the values we feed to it.\n",
        "\n"
      ]
    },
    {
      "cell_type": "markdown",
      "metadata": {
        "id": "dXefgjm_uFcM"
      },
      "source": [
        "#### 19. Create a 8x8 matrix and fill it with a checkerboard pattern (★☆☆) \n",
        "(**hint**: array\\[::2\\])"
      ]
    },
    {
      "cell_type": "code",
      "execution_count": null,
      "metadata": {
        "id": "WaeMAg9BuFcM",
        "colab": {
          "base_uri": "https://localhost:8080/"
        },
        "outputId": "661c2f6d-5a3f-409c-f27c-eaaf09cc7d57"
      },
      "outputs": [
        {
          "output_type": "execute_result",
          "data": {
            "text/plain": [
              "array([[0, 1, 0, 1, 0, 1, 0, 1],\n",
              "       [1, 0, 1, 0, 1, 0, 1, 0],\n",
              "       [0, 1, 0, 1, 0, 1, 0, 1],\n",
              "       [1, 0, 1, 0, 1, 0, 1, 0],\n",
              "       [0, 1, 0, 1, 0, 1, 0, 1],\n",
              "       [1, 0, 1, 0, 1, 0, 1, 0],\n",
              "       [0, 1, 0, 1, 0, 1, 0, 1],\n",
              "       [1, 0, 1, 0, 1, 0, 1, 0]])"
            ]
          },
          "metadata": {},
          "execution_count": 34
        }
      ],
      "source": [
        "x=np.ones((3,3))\n",
        "x=np.zeros((8,8),dtype=int)\n",
        "x[1::2,::2]=1\n",
        "x[::2,1::2]=1\n",
        "x"
      ]
    },
    {
      "cell_type": "markdown",
      "metadata": {
        "id": "UX0UN1p0uFcN"
      },
      "source": [
        "#### 20. Consider a (6,7,8) shape array, what is the index (x,y,z) of the 100th element? \n",
        "(**hint**: np.unravel_index)"
      ]
    },
    {
      "cell_type": "code",
      "execution_count": null,
      "metadata": {
        "id": "QOfwfeyIuFcO",
        "colab": {
          "base_uri": "https://localhost:8080/"
        },
        "outputId": "c55758c1-943b-4185-90d3-4c5e3b1f42c3"
      },
      "outputs": [
        {
          "output_type": "execute_result",
          "data": {
            "text/plain": [
              "(1, 5, 4)"
            ]
          },
          "metadata": {},
          "execution_count": 36
        }
      ],
      "source": [
        "np.unravel_index(100,(6,7,8))\n",
        "# np.unravel_index will convert a flat index or array of flat indices into a tuple of coordinate arrays."
      ]
    },
    {
      "cell_type": "markdown",
      "metadata": {
        "id": "OYNnAzcduFcO"
      },
      "source": [
        "#### 21. Create a checkerboard 8x8 matrix using the tile function (★☆☆) \n",
        "(**hint**: np.tile)"
      ]
    },
    {
      "cell_type": "code",
      "execution_count": null,
      "metadata": {
        "id": "GqDL8eKVuFcO",
        "colab": {
          "base_uri": "https://localhost:8080/"
        },
        "outputId": "1ec87bad-e4a0-4cc5-c253-65937b78be4e"
      },
      "outputs": [
        {
          "output_type": "stream",
          "name": "stdout",
          "text": [
            "[[0 1 0 1 0 1 0 1]\n",
            " [1 0 1 0 1 0 1 0]\n",
            " [0 1 0 1 0 1 0 1]\n",
            " [1 0 1 0 1 0 1 0]\n",
            " [0 1 0 1 0 1 0 1]\n",
            " [1 0 1 0 1 0 1 0]\n",
            " [0 1 0 1 0 1 0 1]\n",
            " [1 0 1 0 1 0 1 0]]\n"
          ]
        }
      ],
      "source": [
        "Array= np.array([[0,1], [1,0]])\n",
        "Z = np.tile(Array,(4,4))\n",
        "print (Z)\n",
        "# np.title will construct an array by repeating Z the number of times given by reps."
      ]
    },
    {
      "cell_type": "markdown",
      "metadata": {
        "id": "ouDyGz4SuFcO"
      },
      "source": [
        "#### 22. Normalize a 5x5 random matrix (★☆☆) \n",
        "(**hint**: (x - min) / (max - min))"
      ]
    },
    {
      "cell_type": "code",
      "execution_count": null,
      "metadata": {
        "id": "HHhfe7wWuFcP",
        "colab": {
          "base_uri": "https://localhost:8080/"
        },
        "outputId": "a9f11134-f8a4-418c-e063-83a4ab9067a0"
      },
      "outputs": [
        {
          "output_type": "stream",
          "name": "stdout",
          "text": [
            "[[0.53248012 0.91411056 0.54998714 0.17145534 0.9064464 ]\n",
            " [0.33989338 0.87685991 0.11365569 0.03937971 0.80304311]\n",
            " [0.15911686 0.33627847 0.18962616 0.         0.70491419]\n",
            " [0.62636651 0.42384495 0.24513525 0.32696312 1.        ]\n",
            " [0.9502748  0.85491144 0.09501451 0.28544097 0.68524893]]\n"
          ]
        }
      ],
      "source": [
        "Z = np.random.random((5,5))\n",
        "Zmax, Zmin = Z.max(), Z.min()\n",
        "Z= (Z-Zmin)/(Zmax-Zmin)\n",
        "print (Z)\n",
        " # To normalize a matrix means to scale the values such that that the range of the row or column values is between 0 and 1."
      ]
    },
    {
      "cell_type": "markdown",
      "metadata": {
        "id": "tyYHeAI8uFcP"
      },
      "source": [
        "#### 23. Create a custom dtype that describes a color as four unsigned bytes (RGBA) (★☆☆) \n",
        "(**hint**: np.dtype)"
      ]
    },
    {
      "cell_type": "code",
      "execution_count": null,
      "metadata": {
        "collapsed": true,
        "id": "hohe1tXpuFcP",
        "colab": {
          "base_uri": "https://localhost:8080/"
        },
        "outputId": "98b64771-5127-49d6-b42e-28ad6caf9a28"
      },
      "outputs": [
        {
          "output_type": "stream",
          "name": "stderr",
          "text": [
            "<ipython-input-39-b9f1a6f5df9c>:1: FutureWarning: Passing (type, 1) or '1type' as a synonym of type is deprecated; in a future version of numpy, it will be understood as (type, (1,)) / '(1,)type'.\n",
            "  color = np.dtype([(\"r\", np.ubyte, 1),\n"
          ]
        }
      ],
      "source": [
        "color = np.dtype([(\"r\", np.ubyte, 1),\n",
        "                  (\"g\", np.ubyte, 1),\n",
        "                  (\"b\", np.ubyte, 1),\n",
        "                  (\"a\", np.ubyte, 1)])\n",
        "# np.dtype A data type object describes how the bytes in the fixed-size block of memory corresponding to an array item should be interpreted."
      ]
    },
    {
      "cell_type": "markdown",
      "metadata": {
        "id": "51GMNknVuFcP"
      },
      "source": [
        "#### 24. Multiply a 5x3 matrix by a 3x2 matrix (real matrix product) (★☆☆) \n",
        "(**hint**: np.dot | @)"
      ]
    },
    {
      "cell_type": "code",
      "execution_count": null,
      "metadata": {
        "id": "b1N-jrIDuFcQ",
        "colab": {
          "base_uri": "https://localhost:8080/"
        },
        "outputId": "fb03b08f-03ad-4d8d-b2ea-649156985b1f"
      },
      "outputs": [
        {
          "output_type": "stream",
          "name": "stdout",
          "text": [
            "[[3. 3.]\n",
            " [3. 3.]\n",
            " [3. 3.]\n",
            " [3. 3.]\n",
            " [3. 3.]]\n"
          ]
        }
      ],
      "source": [
        "Z= np.dot(np.ones((5,3)), np.ones((3,2)))\n",
        "print (Z)\n",
        "# np.dot Dot product of two arrays.\n"
      ]
    },
    {
      "cell_type": "markdown",
      "metadata": {
        "id": "DMLn4FSwuFcQ"
      },
      "source": [
        "#### 25. Given a 1D array, negate all elements which are between 3 and 8, in place. (★☆☆) \n",
        "(**hint**: >, <=)"
      ]
    },
    {
      "cell_type": "code",
      "execution_count": null,
      "metadata": {
        "id": "_S3dvs_buFcQ",
        "colab": {
          "base_uri": "https://localhost:8080/"
        },
        "outputId": "35bdc52a-0c58-420f-f630-04e805df26ef"
      },
      "outputs": [
        {
          "output_type": "stream",
          "name": "stdout",
          "text": [
            "[ 0  1  2  3 -4 -5 -6 -7 -8  9 10]\n"
          ]
        }
      ],
      "source": [
        "Z = np.arange(11)\n",
        "Z[(3 < Z) & (Z <= 8)] *= -1\n",
        "print(Z)"
      ]
    },
    {
      "cell_type": "markdown",
      "metadata": {
        "id": "OdokEpTeuFcR"
      },
      "source": [
        "#### 26. What is the output of the following script? (★☆☆) \n",
        "(**hint**: np.sum)"
      ]
    },
    {
      "cell_type": "markdown",
      "metadata": {
        "id": "SbIvVsWkuFcR"
      },
      "source": [
        "```python\n",
        "# Author: Jake VanderPlas\n",
        "\n",
        "print(sum(range(5),-1))\n",
        "from numpy import *\n",
        "print(sum(range(5),-1))\n",
        "```"
      ]
    },
    {
      "cell_type": "code",
      "execution_count": null,
      "metadata": {
        "id": "S2fg4IO-uFcR",
        "colab": {
          "base_uri": "https://localhost:8080/"
        },
        "outputId": "e4f9029e-05b1-4428-aeae-80d51c2c9a43"
      },
      "outputs": [
        {
          "output_type": "stream",
          "name": "stdout",
          "text": [
            "9\n",
            "10\n"
          ]
        }
      ],
      "source": [
        "print(sum(range(5),-1))\n",
        "from numpy import *\n",
        "print(sum(range(5),-1))"
      ]
    },
    {
      "cell_type": "markdown",
      "metadata": {
        "id": "RetFJjOZuFcR"
      },
      "source": [
        "#### 27. Consider an integer vector Z, which of these expressions are legal? (★☆☆)"
      ]
    },
    {
      "cell_type": "markdown",
      "metadata": {
        "id": "N8xYK7pauFcS"
      },
      "source": [
        "```python\n",
        "Z**Z\n",
        "2 << Z >> 2\n",
        "Z <- Z\n",
        "1j*Z\n",
        "Z/1/1\n",
        "Z<Z>Z\n",
        "```"
      ]
    },
    {
      "cell_type": "code",
      "execution_count": null,
      "metadata": {
        "id": "oDB0E3pwuFcS"
      },
      "outputs": [],
      "source": []
    },
    {
      "cell_type": "markdown",
      "metadata": {
        "id": "CiyhqwQeuFcS"
      },
      "source": [
        "#### 28. What are the result of the following expressions?"
      ]
    },
    {
      "cell_type": "markdown",
      "metadata": {
        "id": "iYu1tAHQuFcS"
      },
      "source": [
        "```python\n",
        "np.array(0) / np.array(0)\n",
        "np.array(0) // np.array(0)\n",
        "np.array([np.nan]).astype(int).astype(float)\n",
        "```"
      ]
    },
    {
      "cell_type": "code",
      "execution_count": null,
      "metadata": {
        "id": "tqsojTqnuFcT",
        "colab": {
          "base_uri": "https://localhost:8080/"
        },
        "outputId": "c5af6e69-7b91-415d-afd7-580d8d00b3cb"
      },
      "outputs": [
        {
          "output_type": "stream",
          "name": "stderr",
          "text": [
            "<ipython-input-43-cd809174da5d>:1: RuntimeWarning: invalid value encountered in true_divide\n",
            "  np.array(0) / np.array(0)\n",
            "<ipython-input-43-cd809174da5d>:2: RuntimeWarning: divide by zero encountered in floor_divide\n",
            "  np.array(0) // np.array(0)\n"
          ]
        },
        {
          "output_type": "execute_result",
          "data": {
            "text/plain": [
              "array([-9.22337204e+18])"
            ]
          },
          "metadata": {},
          "execution_count": 43
        }
      ],
      "source": [
        "np.array(0) / np.array(0)\n",
        "np.array(0) // np.array(0)\n",
        "np.array([np.nan]).astype(int).astype(float)"
      ]
    },
    {
      "cell_type": "markdown",
      "metadata": {
        "id": "lDsmeKs-uFcT"
      },
      "source": [
        "#### 29. How to round away from zero a float array ? (★☆☆) \n",
        "(**hint**: np.uniform, np.copysign, np.ceil, np.abs)"
      ]
    },
    {
      "cell_type": "code",
      "execution_count": null,
      "metadata": {
        "id": "o2evZP-suFcT",
        "colab": {
          "base_uri": "https://localhost:8080/"
        },
        "outputId": "2fee31c8-e586-4ae1-d596-ce75dd6ccbec"
      },
      "outputs": [
        {
          "output_type": "stream",
          "name": "stdout",
          "text": [
            "[ 6.  4. -4.  3.  6.  2. -6.  3.  4.  8.]\n"
          ]
        }
      ],
      "source": [
        "Z = np.random.uniform(-10,+10,10)\n",
        "print (np.copysign(np.ceil(np.abs(Z)), Z))"
      ]
    },
    {
      "cell_type": "markdown",
      "metadata": {
        "id": "-8ilTonxuFcU"
      },
      "source": [
        "#### 30. How to find common values between two arrays? (★☆☆) \n",
        "(**hint**: np.intersect1d)"
      ]
    },
    {
      "cell_type": "code",
      "execution_count": null,
      "metadata": {
        "id": "jdMj3KckuFcU",
        "colab": {
          "base_uri": "https://localhost:8080/"
        },
        "outputId": "15009bf9-84d4-48dd-d0a3-9eee22d02793"
      },
      "outputs": [
        {
          "output_type": "stream",
          "name": "stdout",
          "text": [
            "[3 4 5 6 7 8]\n"
          ]
        }
      ],
      "source": [
        "Z1 = np.random.randint(0,10,10)\n",
        "Z2 = np.random.randint(0,10,10)\n",
        "print(np.intersect1d(Z1,Z2))"
      ]
    },
    {
      "cell_type": "markdown",
      "metadata": {
        "id": "qVzz_NYeuFcU"
      },
      "source": [
        "#### 31. How to ignore all numpy warnings (not recommended)? (★☆☆) \n",
        "(**hint**: np.seterr, np.errstate)"
      ]
    },
    {
      "cell_type": "code",
      "execution_count": 3,
      "metadata": {
        "id": "Tya-mTUuuFcV"
      },
      "outputs": [],
      "source": [
        "defaults = np.seterr(all=\"ignore\")\n",
        "Z = np.ones(1) / 0\n",
        "\n",
        "# Back to sanity\n",
        "_ = np.seterr(**defaults)\n",
        "\n",
        "\n",
        "\n",
        "with np.errstate(divide='ignore'):\n",
        "    Z = np.ones(1) / 0\n",
        "\n",
        "# Here np.seterr will set how floating-point errors are handled.\n",
        "# Using an instance of np.errstate as a context manager allows statements in that context to execute with a known error handling behavior. "
      ]
    },
    {
      "cell_type": "markdown",
      "metadata": {
        "id": "7yI8dKEVuFcV"
      },
      "source": [
        "#### 32. Is the following expressions true? (★☆☆) \n",
        "(**hint**: imaginary number)"
      ]
    },
    {
      "cell_type": "markdown",
      "metadata": {
        "id": "JsMvooSAuFcW"
      },
      "source": [
        "```python\n",
        "np.sqrt(-1) == np.emath.sqrt(-1)\n",
        "```"
      ]
    },
    {
      "cell_type": "code",
      "execution_count": 4,
      "metadata": {
        "id": "ybfnv7UJuFcW",
        "colab": {
          "base_uri": "https://localhost:8080/"
        },
        "outputId": "507876d8-a4ab-46fa-be24-c505525dea34"
      },
      "outputs": [
        {
          "output_type": "stream",
          "name": "stderr",
          "text": [
            "<ipython-input-4-16339fbc685e>:1: RuntimeWarning: invalid value encountered in sqrt\n",
            "  np.sqrt(-1) == np.emath.sqrt(-1)\n"
          ]
        },
        {
          "output_type": "execute_result",
          "data": {
            "text/plain": [
              "False"
            ]
          },
          "metadata": {},
          "execution_count": 4
        }
      ],
      "source": [
        "np.sqrt(-1) == np.emath.sqrt(-1)\n",
        "# np.sqrt returns the non-negative square-root of an array, element-wise.\n",
        "# The np.emath.sqrt() method from the NumPy library calculates the square root of complex inputs."
      ]
    },
    {
      "cell_type": "markdown",
      "metadata": {
        "id": "recMm7JtuFcW"
      },
      "source": [
        "#### 33. How to get the dates of yesterday, today and tomorrow? (★☆☆) \n",
        "(**hint**: np.datetime64, np.timedelta64)"
      ]
    },
    {
      "cell_type": "code",
      "execution_count": 5,
      "metadata": {
        "collapsed": true,
        "id": "lON5b3FwuFcX",
        "colab": {
          "base_uri": "https://localhost:8080/"
        },
        "outputId": "dd0bebb6-3a3a-4fb9-9eb9-8d4238009be8"
      },
      "outputs": [
        {
          "output_type": "execute_result",
          "data": {
            "text/plain": [
              "numpy.datetime64('2022-12-16')"
            ]
          },
          "metadata": {},
          "execution_count": 5
        }
      ],
      "source": [
        "y = np.datetime64('today', 'D') - np.timedelta64(1, 'D')\n",
        "t     = np.datetime64('today', 'D')\n",
        "tomorrow  = np.datetime64('today', 'D') + np.timedelta64(1, 'D')\n",
        "y\n",
        "t\n",
        "tomorrow\n",
        "# With the help of numpy.datetime64() method, we can get the date in a numpy array in a particular format.\n"
      ]
    },
    {
      "cell_type": "markdown",
      "metadata": {
        "id": "TREY6ETxuFcX"
      },
      "source": [
        "#### 34. How to get all the dates corresponding to the month of July 2016? (★★☆) \n",
        "(**hint**: np.arange(dtype=datetime64\\['D'\\]))"
      ]
    },
    {
      "cell_type": "code",
      "source": [
        "Z = np.arange('2016-07', '2016-08', dtype='datetime64[D]')\n",
        "print(Z)"
      ],
      "metadata": {
        "colab": {
          "base_uri": "https://localhost:8080/"
        },
        "id": "GBb6xXGZmcOh",
        "outputId": "13ae2c85-16db-40cf-904d-2178b7fd2cb8"
      },
      "execution_count": 6,
      "outputs": [
        {
          "output_type": "stream",
          "name": "stdout",
          "text": [
            "['2016-07-01' '2016-07-02' '2016-07-03' '2016-07-04' '2016-07-05'\n",
            " '2016-07-06' '2016-07-07' '2016-07-08' '2016-07-09' '2016-07-10'\n",
            " '2016-07-11' '2016-07-12' '2016-07-13' '2016-07-14' '2016-07-15'\n",
            " '2016-07-16' '2016-07-17' '2016-07-18' '2016-07-19' '2016-07-20'\n",
            " '2016-07-21' '2016-07-22' '2016-07-23' '2016-07-24' '2016-07-25'\n",
            " '2016-07-26' '2016-07-27' '2016-07-28' '2016-07-29' '2016-07-30'\n",
            " '2016-07-31']\n"
          ]
        }
      ]
    },
    {
      "cell_type": "markdown",
      "metadata": {
        "id": "eblrkJ0ZuFcY"
      },
      "source": [
        "#### 35. How to compute ((A+B)\\*(-A/2)) in place (without copy)? (★★☆) \n",
        "(**hint**: np.add(out=), np.negative(out=), np.multiply(out=), np.divide(out=))"
      ]
    },
    {
      "cell_type": "code",
      "execution_count": 7,
      "metadata": {
        "id": "lYCgMNJvuFcZ",
        "colab": {
          "base_uri": "https://localhost:8080/"
        },
        "outputId": "fa9fdb95-8054-4684-e683-2954925e2199"
      },
      "outputs": [
        {
          "output_type": "execute_result",
          "data": {
            "text/plain": [
              "array([-1.5, -1.5, -1.5])"
            ]
          },
          "metadata": {},
          "execution_count": 7
        }
      ],
      "source": [
        "A = np.ones(3)*1\n",
        "B = np.ones(3)*2\n",
        "C = np.ones(3)*3\n",
        "np.add(A,B,out=B)\n",
        "np.divide(A,2,out=A)\n",
        "np.negative(A,out=A)\n",
        "np.multiply(A,B,out=A)\n",
        "# here is the simple mathematical functions of numpy."
      ]
    },
    {
      "cell_type": "markdown",
      "metadata": {
        "id": "tgukQHICuFcZ"
      },
      "source": [
        "#### 36. Extract the integer part of a random array using 5 different methods (★★☆) \n",
        "(**hint**: %, np.floor, np.ceil, astype, np.trunc)"
      ]
    },
    {
      "cell_type": "code",
      "execution_count": 8,
      "metadata": {
        "id": "j7KBHd0uuFcZ",
        "colab": {
          "base_uri": "https://localhost:8080/"
        },
        "outputId": "058bfd3a-893d-475f-e5c1-66b464459db0"
      },
      "outputs": [
        {
          "output_type": "stream",
          "name": "stdout",
          "text": [
            "[2. 7. 5. 6. 1. 6. 4. 7. 0. 3.]\n",
            "[2. 7. 5. 6. 1. 6. 4. 7. 0. 3.]\n",
            "[2. 7. 5. 6. 1. 6. 4. 7. 0. 3.]\n",
            "[2 7 5 6 1 6 4 7 0 3]\n",
            "[2. 7. 5. 6. 1. 6. 4. 7. 0. 3.]\n"
          ]
        }
      ],
      "source": [
        "Z = np.random.uniform(0,10,10)\n",
        "\n",
        "print (Z - Z%1)\n",
        "print (np.floor(Z))\n",
        "print (np.ceil(Z)-1)\n",
        "print (Z.astype(int))\n",
        "print (np.trunc(Z)) "
      ]
    },
    {
      "cell_type": "markdown",
      "metadata": {
        "id": "wEMr54L-uFca"
      },
      "source": [
        "#### 37. Create a 5x5 matrix with row values ranging from 0 to 4 (★★☆) \n",
        "(**hint**: np.arange)"
      ]
    },
    {
      "cell_type": "code",
      "execution_count": 9,
      "metadata": {
        "id": "7Z1oikZcuFca",
        "colab": {
          "base_uri": "https://localhost:8080/"
        },
        "outputId": "1e18883b-9954-4a5f-db8b-475aaef1aa5c"
      },
      "outputs": [
        {
          "output_type": "stream",
          "name": "stdout",
          "text": [
            "[[0. 1. 2. 3. 4.]\n",
            " [0. 1. 2. 3. 4.]\n",
            " [0. 1. 2. 3. 4.]\n",
            " [0. 1. 2. 3. 4.]\n",
            " [0. 1. 2. 3. 4.]]\n"
          ]
        }
      ],
      "source": [
        "Z = np.zeros((5,5))\n",
        "Z += np.arange(5)\n",
        "print(Z)"
      ]
    },
    {
      "cell_type": "markdown",
      "metadata": {
        "id": "kxhSoy8HuFca"
      },
      "source": [
        "#### 38. Consider a generator function that generates 10 integers and use it to build an array (★☆☆) \n",
        "(**hint**: np.fromiter)"
      ]
    },
    {
      "cell_type": "code",
      "execution_count": 10,
      "metadata": {
        "id": "TxPuImuduFcb",
        "colab": {
          "base_uri": "https://localhost:8080/"
        },
        "outputId": "8e3f0445-75e5-42cf-ef93-93f9dd34afa6"
      },
      "outputs": [
        {
          "output_type": "stream",
          "name": "stdout",
          "text": [
            "[0. 1. 2. 3. 4. 5. 6. 7. 8. 9.]\n"
          ]
        }
      ],
      "source": [
        "def generate():\n",
        "    for x in range(10):\n",
        "        yield x\n",
        "Z = np.fromiter(generate(),dtype=float,count=-1)\n",
        "print(Z)\n",
        "# np.fromiter creates a new 1-dimensional array from an iterable object."
      ]
    },
    {
      "cell_type": "markdown",
      "metadata": {
        "id": "F_YsWuSzuFcb"
      },
      "source": [
        "#### 39. Create a vector of size 10 with values ranging from 0 to 1, both excluded (★★☆) \n",
        "(**hint**: np.linspace)"
      ]
    },
    {
      "cell_type": "code",
      "execution_count": 11,
      "metadata": {
        "id": "R_rcvix3uFcb",
        "colab": {
          "base_uri": "https://localhost:8080/"
        },
        "outputId": "153568d8-0289-4963-e1a8-bf492a1eda95"
      },
      "outputs": [
        {
          "output_type": "stream",
          "name": "stdout",
          "text": [
            "[0.09090909 0.18181818 0.27272727 0.36363636 0.45454545 0.54545455\n",
            " 0.63636364 0.72727273 0.81818182 0.90909091]\n"
          ]
        }
      ],
      "source": [
        "Z = np.linspace(0,1,11,endpoint=False)[1:]\n",
        "print(Z)\n",
        "# np.linespace returns evenly spaced numbers over a specified interval."
      ]
    },
    {
      "cell_type": "markdown",
      "metadata": {
        "id": "-xaC1bMruFcc"
      },
      "source": [
        "#### 40. Create a random vector of size 10 and sort it (★★☆) \n",
        "(**hint**: sort)"
      ]
    },
    {
      "cell_type": "code",
      "execution_count": 12,
      "metadata": {
        "id": "XLbIbj90uFcc",
        "colab": {
          "base_uri": "https://localhost:8080/"
        },
        "outputId": "a32e504b-4b73-46d8-d5c8-95e69248b99d"
      },
      "outputs": [
        {
          "output_type": "stream",
          "name": "stdout",
          "text": [
            "[0.13511072 0.19504939 0.20515832 0.24643822 0.32000792 0.38343874\n",
            " 0.56053051 0.73285612 0.84232635 0.88270356]\n"
          ]
        }
      ],
      "source": [
        "Z = np.random.random(10)\n",
        "Z.sort()\n",
        "print(Z)\n",
        "# This function is defined for lists and used to modify the order of data in the list. "
      ]
    },
    {
      "cell_type": "markdown",
      "metadata": {
        "id": "CmxVESLeuFcc"
      },
      "source": [
        "#### 41. How to sum a small array faster than np.sum? (★★☆) \n",
        "(**hint**: np.add.reduce)"
      ]
    },
    {
      "cell_type": "code",
      "execution_count": 13,
      "metadata": {
        "id": "ZrBdr16UuFcd",
        "colab": {
          "base_uri": "https://localhost:8080/"
        },
        "outputId": "3ace14af-9b9d-4299-871d-0d124e55d9d7"
      },
      "outputs": [
        {
          "output_type": "execute_result",
          "data": {
            "text/plain": [
              "45"
            ]
          },
          "metadata": {},
          "execution_count": 13
        }
      ],
      "source": [
        "Z = np.arange(10)\n",
        "np.add.reduce(Z)\n",
        "# The given input array is reduced by applying the universal function recursively along a specified axis on consecutive elements."
      ]
    },
    {
      "cell_type": "markdown",
      "metadata": {
        "id": "BkOJIiBYuFcd"
      },
      "source": [
        "#### 42. Consider two random array A and B, check if they are equal (★★☆) \n",
        "(**hint**: np.allclose, np.array\\_equal)"
      ]
    },
    {
      "cell_type": "code",
      "execution_count": 14,
      "metadata": {
        "id": "Sd2yxPMSuFcd",
        "colab": {
          "base_uri": "https://localhost:8080/"
        },
        "outputId": "68c9d0a8-99eb-44fc-ef05-b4450976ac66"
      },
      "outputs": [
        {
          "output_type": "stream",
          "name": "stdout",
          "text": [
            "False\n",
            "False\n"
          ]
        }
      ],
      "source": [
        "A = np.random.randint(0,2,5)\n",
        "B = np.random.randint(0,2,5)\n",
        "equal = np.allclose(A,B)\n",
        "print(equal)\n",
        "equal = np.array_equal(A,B)\n",
        "print(equal)\n",
        "# np.allclose will return True if two arrays are element-wise equal within a tolerance.\n",
        "# True if two arrays have the same shape and elements, False otherwise."
      ]
    },
    {
      "cell_type": "markdown",
      "metadata": {
        "id": "MXgNAq5DuFcd"
      },
      "source": [
        "#### 43. Make an array immutable (read-only) (★★☆) \n",
        "(**hint**: flags.writeable)"
      ]
    },
    {
      "cell_type": "code",
      "execution_count": 15,
      "metadata": {
        "id": "CQrmFLY7uFcd",
        "colab": {
          "base_uri": "https://localhost:8080/",
          "height": 205
        },
        "outputId": "bd3fc606-acd5-4a97-9480-5682532c1a51"
      },
      "outputs": [
        {
          "output_type": "error",
          "ename": "ValueError",
          "evalue": "ignored",
          "traceback": [
            "\u001b[0;31m---------------------------------------------------------------------------\u001b[0m",
            "\u001b[0;31mValueError\u001b[0m                                Traceback (most recent call last)",
            "\u001b[0;32m<ipython-input-15-dcc5e7f145b5>\u001b[0m in \u001b[0;36m<module>\u001b[0;34m\u001b[0m\n\u001b[1;32m      1\u001b[0m \u001b[0mZ\u001b[0m \u001b[0;34m=\u001b[0m \u001b[0mnp\u001b[0m\u001b[0;34m.\u001b[0m\u001b[0mzeros\u001b[0m\u001b[0;34m(\u001b[0m\u001b[0;36m10\u001b[0m\u001b[0;34m)\u001b[0m\u001b[0;34m\u001b[0m\u001b[0;34m\u001b[0m\u001b[0m\n\u001b[1;32m      2\u001b[0m \u001b[0mZ\u001b[0m\u001b[0;34m.\u001b[0m\u001b[0mflags\u001b[0m\u001b[0;34m.\u001b[0m\u001b[0mwriteable\u001b[0m \u001b[0;34m=\u001b[0m \u001b[0;32mFalse\u001b[0m\u001b[0;34m\u001b[0m\u001b[0;34m\u001b[0m\u001b[0m\n\u001b[0;32m----> 3\u001b[0;31m \u001b[0mZ\u001b[0m\u001b[0;34m[\u001b[0m\u001b[0;36m0\u001b[0m\u001b[0;34m]\u001b[0m \u001b[0;34m=\u001b[0m \u001b[0;36m1\u001b[0m\u001b[0;34m\u001b[0m\u001b[0;34m\u001b[0m\u001b[0m\n\u001b[0m",
            "\u001b[0;31mValueError\u001b[0m: assignment destination is read-only"
          ]
        }
      ],
      "source": [
        "Z = np.zeros(10)\n",
        "Z.flags.writeable = False\n",
        "Z[0] = 1\n",
        "# ValueError: assignment destination is read-only"
      ]
    },
    {
      "cell_type": "markdown",
      "metadata": {
        "id": "7EDGKP7LuFce"
      },
      "source": [
        "#### 44. Consider a random 10x2 matrix representing cartesian coordinates, convert them to polar coordinates (★★☆) \n",
        "(**hint**: np.sqrt, np.arctan2)"
      ]
    },
    {
      "cell_type": "code",
      "execution_count": 16,
      "metadata": {
        "id": "U5f2NCCsuFce",
        "colab": {
          "base_uri": "https://localhost:8080/"
        },
        "outputId": "0820982a-78d9-4513-d761-2258211d05a4"
      },
      "outputs": [
        {
          "output_type": "stream",
          "name": "stdout",
          "text": [
            "[1.04920382 1.29626071 0.63431584 0.47954504 0.62890958 0.1826076\n",
            " 1.1087812  1.04273228 0.63271695 0.94821604]\n",
            "[0.32831491 0.75525936 0.59504771 1.07596853 1.24017045 0.65126866\n",
            " 1.10920556 0.953687   1.42031902 0.69095973]\n"
          ]
        }
      ],
      "source": [
        "Z = np.random.random((10,2))\n",
        "X,Y = Z[:,0], Z[:,1]\n",
        "R = np.sqrt(X**2+Y**2)\n",
        "T = np.arctan2(Y,X)\n",
        "print(R)\n",
        "print(T)\n",
        "# Here np.arct2 refers to element-wise arc tangent of x1/x2 choosing the quadrant correctly."
      ]
    },
    {
      "cell_type": "markdown",
      "metadata": {
        "id": "ZMtmxtlGuFce"
      },
      "source": [
        "#### 45. Create random vector of size 10 and replace the maximum value by 0 (★★☆) \n",
        "(**hint**: argmax)"
      ]
    },
    {
      "cell_type": "code",
      "execution_count": 17,
      "metadata": {
        "id": "5D-4PRiquFce",
        "colab": {
          "base_uri": "https://localhost:8080/"
        },
        "outputId": "b2636d0a-3b86-4816-8f42-af211f74d2c7"
      },
      "outputs": [
        {
          "output_type": "stream",
          "name": "stdout",
          "text": [
            "[0.08992082 0.55698747 0.2157139  0.08758815 0.36543037 0.\n",
            " 0.14880683 0.78719876 0.12339213 0.30804462]\n"
          ]
        }
      ],
      "source": [
        "Z = np.random.random(10)\n",
        "Z[Z.argmax()] = 0\n",
        "print(Z)\n",
        "# argmax will return the indices of the maximum values along an axis."
      ]
    },
    {
      "cell_type": "markdown",
      "metadata": {
        "id": "g4cVFuyjuFcf"
      },
      "source": [
        "#### 46. Create a structured array with `x` and `y` coordinates covering the \\[0,1\\]x\\[0,1\\] area (★★☆) \n",
        "(**hint**: np.meshgrid)"
      ]
    },
    {
      "cell_type": "code",
      "execution_count": null,
      "metadata": {
        "id": "jgifrkQYuFcf"
      },
      "outputs": [],
      "source": [
        "Z = np.zeros((5,5), [('x',float),('y',float)])\n",
        "Z['x'], Z['y'] = np.meshgrid(np.linspace(0,1,5),\n",
        "                             np.linspace(0,1,5))\n",
        "print(Z)\n",
        "# np.meshgrid is very useful to evaluate functions on a grid."
      ]
    },
    {
      "cell_type": "markdown",
      "metadata": {
        "id": "TBnovL58uFcf"
      },
      "source": [
        "####  47. Given two arrays, X and Y, construct the Cauchy matrix C (Cij =1/(xi - yj)) \n",
        "(**hint**: np.subtract.outer)"
      ]
    },
    {
      "cell_type": "code",
      "execution_count": null,
      "metadata": {
        "id": "Jl-tG52UuFcf"
      },
      "outputs": [],
      "source": [
        "X = np.arange(8)\n",
        "Y = X + 0.5\n",
        "C = 1.0 / np.subtract.outer(X, Y)\n",
        "print(np.linalg.det(C))\n",
        "# np.subtract.outer applys the ufunc op to all pairs (a, b) with a in A and b in B."
      ]
    },
    {
      "cell_type": "markdown",
      "metadata": {
        "id": "soxmdUGmuFcf"
      },
      "source": [
        "#### 48. Print the minimum and maximum representable value for each numpy scalar type (★★☆) \n",
        "(**hint**: np.iinfo, np.finfo, eps)"
      ]
    },
    {
      "cell_type": "code",
      "execution_count": 18,
      "metadata": {
        "id": "SA_501XWuFcg",
        "colab": {
          "base_uri": "https://localhost:8080/"
        },
        "outputId": "6595ca7f-fa55-40ca-d74f-37a8580c68d1"
      },
      "outputs": [
        {
          "output_type": "stream",
          "name": "stdout",
          "text": [
            "-128\n",
            "127\n",
            "-2147483648\n",
            "2147483647\n",
            "-9223372036854775808\n",
            "9223372036854775807\n",
            "-3.4028235e+38\n",
            "3.4028235e+38\n",
            "1.1920929e-07\n",
            "-1.7976931348623157e+308\n",
            "1.7976931348623157e+308\n",
            "2.220446049250313e-16\n"
          ]
        }
      ],
      "source": [
        "for dtype in [np.int8, np.int32, np.int64]:\n",
        "   print(np.iinfo(dtype).min)\n",
        "   print(np.iinfo(dtype).max)\n",
        "for dtype in [np.float32, np.float64]:\n",
        "   print(np.finfo(dtype).min)\n",
        "   print(np.finfo(dtype).max)\n",
        "   print(np.finfo(dtype).eps)\n",
        "# np.iinfo refers to machine limits for integer types.\n",
        "# np.finfo, eps kind of floating point data-type about which to get information."
      ]
    },
    {
      "cell_type": "markdown",
      "metadata": {
        "id": "bpqznNkyuFcg"
      },
      "source": [
        "#### 49. How to print all the values of an array? (★★☆) \n",
        "(**hint**: np.set\\_printoptions)"
      ]
    },
    {
      "cell_type": "code",
      "execution_count": 21,
      "metadata": {
        "id": "HYz9QS5FuFcg",
        "colab": {
          "base_uri": "https://localhost:8080/"
        },
        "outputId": "22df7b83-897b-423c-893e-3d01d6b62cb1"
      },
      "outputs": [
        {
          "output_type": "stream",
          "name": "stdout",
          "text": [
            "[[0. 0. 0. 0. 0. 0. 0. 0. 0. 0. 0. 0. 0. 0. 0. 0.]\n",
            " [0. 0. 0. 0. 0. 0. 0. 0. 0. 0. 0. 0. 0. 0. 0. 0.]\n",
            " [0. 0. 0. 0. 0. 0. 0. 0. 0. 0. 0. 0. 0. 0. 0. 0.]\n",
            " [0. 0. 0. 0. 0. 0. 0. 0. 0. 0. 0. 0. 0. 0. 0. 0.]\n",
            " [0. 0. 0. 0. 0. 0. 0. 0. 0. 0. 0. 0. 0. 0. 0. 0.]\n",
            " [0. 0. 0. 0. 0. 0. 0. 0. 0. 0. 0. 0. 0. 0. 0. 0.]\n",
            " [0. 0. 0. 0. 0. 0. 0. 0. 0. 0. 0. 0. 0. 0. 0. 0.]\n",
            " [0. 0. 0. 0. 0. 0. 0. 0. 0. 0. 0. 0. 0. 0. 0. 0.]\n",
            " [0. 0. 0. 0. 0. 0. 0. 0. 0. 0. 0. 0. 0. 0. 0. 0.]\n",
            " [0. 0. 0. 0. 0. 0. 0. 0. 0. 0. 0. 0. 0. 0. 0. 0.]\n",
            " [0. 0. 0. 0. 0. 0. 0. 0. 0. 0. 0. 0. 0. 0. 0. 0.]\n",
            " [0. 0. 0. 0. 0. 0. 0. 0. 0. 0. 0. 0. 0. 0. 0. 0.]\n",
            " [0. 0. 0. 0. 0. 0. 0. 0. 0. 0. 0. 0. 0. 0. 0. 0.]\n",
            " [0. 0. 0. 0. 0. 0. 0. 0. 0. 0. 0. 0. 0. 0. 0. 0.]\n",
            " [0. 0. 0. 0. 0. 0. 0. 0. 0. 0. 0. 0. 0. 0. 0. 0.]\n",
            " [0. 0. 0. 0. 0. 0. 0. 0. 0. 0. 0. 0. 0. 0. 0. 0.]]\n"
          ]
        }
      ],
      "source": [
        "Z = np.zeros((16,16))\n",
        "print(Z)\n",
        "#np.set_printoptions(threshold=np.nan)"
      ]
    },
    {
      "cell_type": "markdown",
      "metadata": {
        "id": "JGg5rEF2uFcg"
      },
      "source": [
        "#### 50. How to find the closest value (to a given scalar) in a vector? (★★☆) \n",
        "(**hint**: argmin)"
      ]
    },
    {
      "cell_type": "code",
      "execution_count": 22,
      "metadata": {
        "id": "a7Gft3UxuFch",
        "colab": {
          "base_uri": "https://localhost:8080/"
        },
        "outputId": "c03f9d64-b2d1-4607-83df-f81c89125f7a"
      },
      "outputs": [
        {
          "output_type": "stream",
          "name": "stdout",
          "text": [
            "87\n"
          ]
        }
      ],
      "source": [
        "Z = np.arange(100)\n",
        "v = np.random.uniform(0,100)\n",
        "index = (np.abs(Z-v)).argmin()\n",
        "print(Z[index])"
      ]
    },
    {
      "cell_type": "markdown",
      "metadata": {
        "id": "sab-9buOuFch"
      },
      "source": [
        "#### 51. Create a structured array representing a position (x,y) and a color (r,g,b) (★★☆) \n",
        "(**hint**: dtype)"
      ]
    },
    {
      "cell_type": "code",
      "execution_count": 23,
      "metadata": {
        "id": "UPQ-Ru4KuFch",
        "colab": {
          "base_uri": "https://localhost:8080/"
        },
        "outputId": "6fe1b28a-ad4f-4148-c0cd-ee28daeab4f9"
      },
      "outputs": [
        {
          "output_type": "stream",
          "name": "stdout",
          "text": [
            "[((0., 0.), (0., 0., 0.)) ((0., 0.), (0., 0., 0.))\n",
            " ((0., 0.), (0., 0., 0.)) ((0., 0.), (0., 0., 0.))\n",
            " ((0., 0.), (0., 0., 0.)) ((0., 0.), (0., 0., 0.))\n",
            " ((0., 0.), (0., 0., 0.)) ((0., 0.), (0., 0., 0.))\n",
            " ((0., 0.), (0., 0., 0.)) ((0., 0.), (0., 0., 0.))]\n"
          ]
        },
        {
          "output_type": "stream",
          "name": "stderr",
          "text": [
            "<ipython-input-23-6f1aa4d7a2ff>:1: FutureWarning: Passing (type, 1) or '1type' as a synonym of type is deprecated; in a future version of numpy, it will be understood as (type, (1,)) / '(1,)type'.\n",
            "  Z = np.zeros(10, [ ('position', [ ('x', float, 1),\n"
          ]
        }
      ],
      "source": [
        "Z = np.zeros(10, [ ('position', [ ('x', float, 1),\n",
        "                                  ('y', float, 1)]),\n",
        "                   ('color',    [ ('r', float, 1),\n",
        "                                  ('g', float, 1),\n",
        "                                  ('b', float, 1)])])\n",
        "print(Z)"
      ]
    },
    {
      "cell_type": "markdown",
      "metadata": {
        "id": "tzRqVbzJuFch"
      },
      "source": [
        "#### 52. Consider a random vector with shape (100,2) representing coordinates, find point by point distances (★★☆) \n",
        "(**hint**: np.atleast\\_2d, T, np.sqrt)"
      ]
    },
    {
      "cell_type": "code",
      "execution_count": 25,
      "metadata": {
        "id": "T4nB87fsuFch",
        "colab": {
          "base_uri": "https://localhost:8080/"
        },
        "outputId": "bf526e30-26b7-4fd6-c0f6-faa7ddd49391"
      },
      "outputs": [
        {
          "output_type": "stream",
          "name": "stdout",
          "text": [
            "[[0.         0.65620043 0.72883026 0.315543   0.15682493 0.19822786\n",
            "  0.52182416 0.92219236 0.59613203 0.68803225]\n",
            " [0.65620043 0.         0.60992586 0.93131749 0.50954017 0.46789767\n",
            "  0.23249997 0.40544265 0.97827036 0.32424606]\n",
            " [0.72883026 0.60992586 0.         0.80712726 0.60477922 0.67715878\n",
            "  0.742118   0.45688974 0.5797729  0.29901542]\n",
            " [0.315543   0.93131749 0.80712726 0.         0.42757374 0.50621589\n",
            "  0.82890271 1.12111749 0.41814763 0.87647981]\n",
            " [0.15682493 0.50954017 0.60477922 0.42757374 0.         0.10956531\n",
            "  0.40728152 0.76595547 0.60160816 0.53405812]\n",
            " [0.19822786 0.46789767 0.67715878 0.50621589 0.10956531 0.\n",
            "  0.32415384 0.77554496 0.71082014 0.55980799]\n",
            " [0.52182416 0.23249997 0.742118   0.82890271 0.40728152 0.32415384\n",
            "  0.         0.63260722 0.9750804  0.5009201 ]\n",
            " [0.92219236 0.40544265 0.45688974 1.12111749 0.76595547 0.77554496\n",
            "  0.63260722 0.         1.0068773  0.24465749]\n",
            " [0.59613203 0.97827036 0.5797729  0.41814763 0.60160816 0.71082014\n",
            "  0.9750804  1.0068773  0.         0.78374432]\n",
            " [0.68803225 0.32424606 0.29901542 0.87647981 0.53405812 0.55980799\n",
            "  0.5009201  0.24465749 0.78374432 0.        ]]\n",
            "[[0.         0.26369814 0.79936345 0.09760461 0.34166504 0.3218669\n",
            "  0.34522158 0.65688327 0.61150532 0.11308365]\n",
            " [0.26369814 0.         1.05886552 0.35672177 0.59902698 0.54651736\n",
            "  0.5685278  0.76966868 0.8565332  0.17566015]\n",
            " [0.79936345 1.05886552 0.         0.71884758 0.45990783 0.66396285\n",
            "  0.53196268 0.76960732 0.25427553 0.90728522]\n",
            " [0.09760461 0.35672177 0.71884758 0.         0.27060323 0.23398827\n",
            "  0.31316708 0.67295906 0.54886023 0.19032792]\n",
            " [0.34166504 0.59902698 0.45990783 0.27060323 0.         0.32738417\n",
            "  0.15243843 0.55695968 0.27949961 0.45235575]\n",
            " [0.3218669  0.54651736 0.66396285 0.23398827 0.32738417 0.\n",
            "  0.44961648 0.8527348  0.57551152 0.37160971]\n",
            " [0.34522158 0.5685278  0.53196268 0.31316708 0.15243843 0.44961648\n",
            "  0.         0.40923478 0.2971322  0.45643221]\n",
            " [0.65688327 0.76966868 0.76960732 0.67295906 0.55695968 0.8527348\n",
            "  0.40923478 0.         0.5259539  0.74195464]\n",
            " [0.61150532 0.8565332  0.25427553 0.54886023 0.27949961 0.57551152\n",
            "  0.2971322  0.5259539  0.         0.72429838]\n",
            " [0.11308365 0.17566015 0.90728522 0.19032792 0.45235575 0.37160971\n",
            "  0.45643221 0.74195464 0.72429838 0.        ]]\n"
          ]
        }
      ],
      "source": [
        "Z = np.random.random((10,2))\n",
        "X,Y = np.atleast_2d(Z[:,0], Z[:,1])\n",
        "D = np.sqrt( (X-X.T)**2 + (Y-Y.T)**2)\n",
        "print(D)\n",
        "\n",
        "import scipy\n",
        "\n",
        "import scipy.spatial\n",
        "\n",
        "Z = np.random.random((10,2))\n",
        "D = scipy.spatial.distance.cdist(Z,Z)\n",
        "print(D)"
      ]
    },
    {
      "cell_type": "markdown",
      "metadata": {
        "id": "Xi9GC9jWuFci"
      },
      "source": [
        "#### 53. How to convert a float (32 bits) array into an integer (32 bits) in place? \n",
        "(**hint**: astype(copy=False))"
      ]
    },
    {
      "cell_type": "code",
      "execution_count": 26,
      "metadata": {
        "id": "AOWYMzeeuFci",
        "colab": {
          "base_uri": "https://localhost:8080/"
        },
        "outputId": "af264edf-c86f-454c-ab6b-6481eaacc34b"
      },
      "outputs": [
        {
          "output_type": "stream",
          "name": "stdout",
          "text": [
            "[0 1 2 3 4 5 6 7 8 9]\n"
          ]
        }
      ],
      "source": [
        "Z = np.arange(10, dtype=np.float32)\n",
        "Z = Z.astype(np.int32, copy=False)\n",
        "print(Z)"
      ]
    },
    {
      "cell_type": "markdown",
      "metadata": {
        "id": "82HuabEAuFcj"
      },
      "source": [
        "#### 54. How to read the following file? (★★☆) \n",
        "(**hint**: np.genfromtxt)"
      ]
    },
    {
      "cell_type": "markdown",
      "metadata": {
        "id": "wCpKTCZFuFcj"
      },
      "source": [
        "```\n",
        "1, 2, 3, 4, 5\n",
        "6,  ,  , 7, 8\n",
        " ,  , 9,10,11\n",
        "```"
      ]
    },
    {
      "cell_type": "code",
      "execution_count": 27,
      "metadata": {
        "id": "wu9RdfqtuFck",
        "colab": {
          "base_uri": "https://localhost:8080/"
        },
        "outputId": "5e441d81-0e9f-4325-c70f-42dddf21486c"
      },
      "outputs": [
        {
          "output_type": "stream",
          "name": "stdout",
          "text": [
            "[[ 1  2  3  4  5]\n",
            " [ 6 -1 -1  7  8]\n",
            " [-1 -1  9 10 11]]\n"
          ]
        },
        {
          "output_type": "stream",
          "name": "stderr",
          "text": [
            "<ipython-input-27-4a7b0d9b8ca3>:6: DeprecationWarning: `np.int` is a deprecated alias for the builtin `int`. To silence this warning, use `int` by itself. Doing this will not modify any behavior and is safe. When replacing `np.int`, you may wish to use e.g. `np.int64` or `np.int32` to specify the precision. If you wish to review your current use, check the release note link for additional information.\n",
            "Deprecated in NumPy 1.20; for more details and guidance: https://numpy.org/devdocs/release/1.20.0-notes.html#deprecations\n",
            "  Z = np.genfromtxt(s, delimiter=\",\", dtype=np.int)\n"
          ]
        }
      ],
      "source": [
        "from io import StringIO\n",
        "\n",
        "s = StringIO(\"\"\"1, 2, 3, 4, 5\\n\n",
        "                6,  ,  , 7, 8\\n\n",
        "                 ,  , 9,10,11\\n\"\"\")\n",
        "Z = np.genfromtxt(s, delimiter=\",\", dtype=np.int)\n",
        "print(Z)"
      ]
    },
    {
      "cell_type": "markdown",
      "metadata": {
        "id": "Y9N4HkFcuFck"
      },
      "source": [
        "#### 55. What is the equivalent of enumerate for numpy arrays? (★★☆) \n",
        "(**hint**: np.ndenumerate, np.ndindex)"
      ]
    },
    {
      "cell_type": "code",
      "execution_count": 28,
      "metadata": {
        "id": "71P6BEF9uFcl",
        "colab": {
          "base_uri": "https://localhost:8080/"
        },
        "outputId": "4bac97c5-3f7a-4927-f1f5-db38000b077d"
      },
      "outputs": [
        {
          "output_type": "stream",
          "name": "stdout",
          "text": [
            "(0, 0) 0\n",
            "(0, 1) 1\n",
            "(0, 2) 2\n",
            "(1, 0) 3\n",
            "(1, 1) 4\n",
            "(1, 2) 5\n",
            "(2, 0) 6\n",
            "(2, 1) 7\n",
            "(2, 2) 8\n",
            "(0, 0) 0\n",
            "(0, 1) 1\n",
            "(0, 2) 2\n",
            "(1, 0) 3\n",
            "(1, 1) 4\n",
            "(1, 2) 5\n",
            "(2, 0) 6\n",
            "(2, 1) 7\n",
            "(2, 2) 8\n"
          ]
        }
      ],
      "source": [
        "Z = np.arange(9).reshape(3,3)\n",
        "for index, value in np.ndenumerate(Z):\n",
        "    print(index, value)\n",
        "for index in np.ndindex(Z.shape):\n",
        "    print(index, Z[index])"
      ]
    },
    {
      "cell_type": "markdown",
      "metadata": {
        "id": "Vb1KCKXfuFcl"
      },
      "source": [
        "#### 56. Generate a generic 2D Gaussian-like array (★★☆) \n",
        "(**hint**: np.meshgrid, np.exp)"
      ]
    },
    {
      "cell_type": "code",
      "execution_count": 29,
      "metadata": {
        "id": "QxFCwRh3uFcm",
        "colab": {
          "base_uri": "https://localhost:8080/"
        },
        "outputId": "63a4ec4a-5951-431d-b298-9c67bcbd0c6e"
      },
      "outputs": [
        {
          "output_type": "stream",
          "name": "stdout",
          "text": [
            "[[0.36787944 0.44822088 0.51979489 0.57375342 0.60279818 0.60279818\n",
            "  0.57375342 0.51979489 0.44822088 0.36787944]\n",
            " [0.44822088 0.54610814 0.63331324 0.69905581 0.73444367 0.73444367\n",
            "  0.69905581 0.63331324 0.54610814 0.44822088]\n",
            " [0.51979489 0.63331324 0.73444367 0.81068432 0.85172308 0.85172308\n",
            "  0.81068432 0.73444367 0.63331324 0.51979489]\n",
            " [0.57375342 0.69905581 0.81068432 0.89483932 0.9401382  0.9401382\n",
            "  0.89483932 0.81068432 0.69905581 0.57375342]\n",
            " [0.60279818 0.73444367 0.85172308 0.9401382  0.98773022 0.98773022\n",
            "  0.9401382  0.85172308 0.73444367 0.60279818]\n",
            " [0.60279818 0.73444367 0.85172308 0.9401382  0.98773022 0.98773022\n",
            "  0.9401382  0.85172308 0.73444367 0.60279818]\n",
            " [0.57375342 0.69905581 0.81068432 0.89483932 0.9401382  0.9401382\n",
            "  0.89483932 0.81068432 0.69905581 0.57375342]\n",
            " [0.51979489 0.63331324 0.73444367 0.81068432 0.85172308 0.85172308\n",
            "  0.81068432 0.73444367 0.63331324 0.51979489]\n",
            " [0.44822088 0.54610814 0.63331324 0.69905581 0.73444367 0.73444367\n",
            "  0.69905581 0.63331324 0.54610814 0.44822088]\n",
            " [0.36787944 0.44822088 0.51979489 0.57375342 0.60279818 0.60279818\n",
            "  0.57375342 0.51979489 0.44822088 0.36787944]]\n"
          ]
        }
      ],
      "source": [
        "X, Y = np.meshgrid(np.linspace(-1,1,10), np.linspace(-1,1,10))\n",
        "D = np.sqrt(X*X+Y*Y)\n",
        "sigma, mu = 1.0, 0.0\n",
        "G = np.exp(-( (D-mu)**2 / ( 2.0 * sigma**2 ) ) )\n",
        "print(G)"
      ]
    },
    {
      "cell_type": "markdown",
      "metadata": {
        "id": "4zBA5ASZuFcm"
      },
      "source": [
        "#### 57. How to randomly place p elements in a 2D array? (★★☆) \n",
        "(**hint**: np.put, np.random.choice)"
      ]
    },
    {
      "cell_type": "code",
      "execution_count": 30,
      "metadata": {
        "id": "ooaCmkdHuFcm",
        "colab": {
          "base_uri": "https://localhost:8080/"
        },
        "outputId": "dbb70f19-468b-4de9-fe06-ecfc69746b72"
      },
      "outputs": [
        {
          "output_type": "stream",
          "name": "stdout",
          "text": [
            "[[0. 0. 0. 0. 0. 0. 0. 0. 0. 0.]\n",
            " [0. 0. 0. 0. 0. 0. 0. 0. 0. 0.]\n",
            " [0. 0. 0. 0. 0. 0. 0. 0. 0. 0.]\n",
            " [0. 0. 0. 0. 0. 0. 0. 0. 0. 0.]\n",
            " [0. 0. 0. 1. 1. 0. 0. 0. 0. 0.]\n",
            " [0. 0. 0. 0. 0. 0. 0. 0. 0. 0.]\n",
            " [0. 0. 0. 0. 0. 0. 0. 0. 0. 0.]\n",
            " [0. 0. 0. 0. 0. 0. 0. 0. 0. 0.]\n",
            " [0. 0. 0. 0. 1. 0. 0. 0. 0. 0.]\n",
            " [0. 0. 0. 0. 0. 0. 0. 0. 0. 0.]]\n"
          ]
        }
      ],
      "source": [
        "n = 10\n",
        "p = 3\n",
        "Z = np.zeros((n,n))\n",
        "np.put(Z, np.random.choice(range(n*n), p, replace=False),1)\n",
        "print(Z)"
      ]
    },
    {
      "cell_type": "markdown",
      "metadata": {
        "id": "23dGjsRduFcn"
      },
      "source": [
        "#### 58. Subtract the mean of each row of a matrix (★★☆) \n",
        "(**hint**: mean(axis=,keepdims=))"
      ]
    },
    {
      "cell_type": "code",
      "execution_count": 31,
      "metadata": {
        "id": "Ye_gpHQUuFcn",
        "colab": {
          "base_uri": "https://localhost:8080/"
        },
        "outputId": "55629cb4-8ac6-4205-9131-4a2baeba5b6d"
      },
      "outputs": [
        {
          "output_type": "stream",
          "name": "stdout",
          "text": [
            "[[-0.31648945  0.41234806 -0.35446386  0.40945512  0.06012986 -0.12999175\n",
            "  -0.04186883  0.31676826 -0.08452275 -0.27136466]\n",
            " [-0.0135739   0.08285267 -0.38336169  0.23822195  0.17798396  0.40037471\n",
            "  -0.24398568 -0.48057009  0.0187731   0.20328497]\n",
            " [ 0.15934011 -0.44215211 -0.2833972  -0.48714388  0.38977369  0.40563183\n",
            "   0.09164095 -0.05488283  0.36507224 -0.1438828 ]\n",
            " [-0.00878182  0.51118852 -0.26872205  0.30726842 -0.24011426 -0.19495982\n",
            "  -0.15932901  0.47824895 -0.0530414  -0.37175751]\n",
            " [ 0.05582501 -0.0649293   0.23132528  0.27954968 -0.51416896  0.16782422\n",
            "   0.07146218  0.09062482 -0.32902645  0.01151353]]\n"
          ]
        }
      ],
      "source": [
        "X = np.random.rand(5, 10)\n",
        "Y = X - X.mean(axis=1, keepdims=True)\n",
        "Y = X - X.mean(axis=1).reshape(-1, 1)\n",
        "\n",
        "print(Y)"
      ]
    },
    {
      "cell_type": "markdown",
      "metadata": {
        "id": "lac7pUq5uFcn"
      },
      "source": [
        "#### 59. How to sort an array by the nth column? (★★☆) \n",
        "(**hint**: argsort)"
      ]
    },
    {
      "cell_type": "code",
      "execution_count": 32,
      "metadata": {
        "id": "GTntxgqFuFcn",
        "colab": {
          "base_uri": "https://localhost:8080/"
        },
        "outputId": "9ab50593-9966-40c4-de91-4346a14f2b35"
      },
      "outputs": [
        {
          "output_type": "stream",
          "name": "stdout",
          "text": [
            "[[8 8 3]\n",
            " [2 6 3]\n",
            " [3 1 5]]\n",
            "[[3 1 5]\n",
            " [2 6 3]\n",
            " [8 8 3]]\n"
          ]
        }
      ],
      "source": [
        "Z = np.random.randint(0,10,(3,3))\n",
        "print(Z)\n",
        "print(Z[Z[:,1].argsort()])"
      ]
    },
    {
      "cell_type": "markdown",
      "metadata": {
        "id": "OM8qxOLiuFco"
      },
      "source": [
        "#### 60. How to tell if a given 2D array has null columns? (★★☆) \n",
        "(**hint**: any, ~)"
      ]
    },
    {
      "cell_type": "code",
      "execution_count": 33,
      "metadata": {
        "id": "T6mHtafQuFco",
        "colab": {
          "base_uri": "https://localhost:8080/"
        },
        "outputId": "7bdf1954-e40c-406e-ee37-64551576c48c"
      },
      "outputs": [
        {
          "output_type": "stream",
          "name": "stdout",
          "text": [
            "True\n"
          ]
        }
      ],
      "source": [
        "Z = np.random.randint(0,3,(3,10))\n",
        "print((~Z.any(axis=0)).any())"
      ]
    },
    {
      "cell_type": "markdown",
      "metadata": {
        "id": "4Cv4K0LyuFco"
      },
      "source": [
        "#### 61. Find the nearest value from a given value in an array (★★☆) \n",
        "(**hint**: np.abs, argmin, flat)"
      ]
    },
    {
      "cell_type": "code",
      "execution_count": 34,
      "metadata": {
        "id": "fMH537gOuFco",
        "colab": {
          "base_uri": "https://localhost:8080/"
        },
        "outputId": "45cf1a9b-05e6-4a83-c6bf-3e45607af459"
      },
      "outputs": [
        {
          "output_type": "stream",
          "name": "stdout",
          "text": [
            "0.4931082692461465\n"
          ]
        }
      ],
      "source": [
        "Z = np.random.uniform(0,1,10)\n",
        "z = 0.5\n",
        "m = Z.flat[np.abs(Z - z).argmin()]\n",
        "print(m)"
      ]
    },
    {
      "cell_type": "markdown",
      "metadata": {
        "id": "D1JG0zNbuFco"
      },
      "source": [
        "#### 62. Considering two arrays with shape (1,3) and (3,1), how to compute their sum using an iterator? (★★☆) \n",
        "(**hint**: np.nditer)"
      ]
    },
    {
      "cell_type": "code",
      "execution_count": 35,
      "metadata": {
        "id": "I3MsuzMxuFcp",
        "colab": {
          "base_uri": "https://localhost:8080/"
        },
        "outputId": "36802dba-e10c-4242-b440-5131a18904f7"
      },
      "outputs": [
        {
          "output_type": "stream",
          "name": "stdout",
          "text": [
            "[[0 1 2]\n",
            " [1 2 3]\n",
            " [2 3 4]]\n"
          ]
        }
      ],
      "source": [
        "A = np.arange(3).reshape(3,1)\n",
        "B = np.arange(3).reshape(1,3)\n",
        "it = np.nditer([A,B,None])\n",
        "for x,y,z in it: z[...] = x + y\n",
        "print(it.operands[2])"
      ]
    },
    {
      "cell_type": "markdown",
      "metadata": {
        "id": "HLjFaf8luFcp"
      },
      "source": [
        "#### 63. Create an array class that has a name attribute (★★☆) \n",
        "(**hint**: class method)"
      ]
    },
    {
      "cell_type": "code",
      "execution_count": 36,
      "metadata": {
        "id": "ljU57Ny5uFcp",
        "colab": {
          "base_uri": "https://localhost:8080/"
        },
        "outputId": "9a0219a6-2562-4a49-9347-bb3b7219ee98"
      },
      "outputs": [
        {
          "output_type": "stream",
          "name": "stdout",
          "text": [
            "range_10\n"
          ]
        }
      ],
      "source": [
        "class NamedArray(np.ndarray):\n",
        "    def __new__(cls, array, name=\"no name\"):\n",
        "        obj = np.asarray(array).view(cls)\n",
        "        obj.name = name\n",
        "        return obj\n",
        "    def __array_finalize__(self, obj):\n",
        "        if obj is None: return\n",
        "        self.info = getattr(obj, 'name', \"no name\")\n",
        "\n",
        "Z = NamedArray(np.arange(10), \"range_10\")\n",
        "print (Z.name)"
      ]
    },
    {
      "cell_type": "markdown",
      "metadata": {
        "id": "yR2dB0XnuFcp"
      },
      "source": [
        "#### 64. Consider a given vector, how to add 1 to each element indexed by a second vector (be careful with repeated indices)? (★★★) \n",
        "(**hint**: np.bincount | np.add.at)"
      ]
    },
    {
      "cell_type": "code",
      "execution_count": 37,
      "metadata": {
        "id": "4AwG1OmtuFcq",
        "colab": {
          "base_uri": "https://localhost:8080/"
        },
        "outputId": "2575b6dc-6d9b-498f-d057-6ecde231b5cf"
      },
      "outputs": [
        {
          "output_type": "stream",
          "name": "stdout",
          "text": [
            "[4. 4. 2. 5. 3. 2. 2. 3. 1. 4.]\n",
            "[7. 7. 3. 9. 5. 3. 3. 5. 1. 7.]\n"
          ]
        }
      ],
      "source": [
        "Z = np.ones(10)\n",
        "I = np.random.randint(0,len(Z),20)\n",
        "Z += np.bincount(I, minlength=len(Z))\n",
        "print(Z)\n",
        "\n",
        "\n",
        "np.add.at(Z, I, 1)\n",
        "print(Z)"
      ]
    },
    {
      "cell_type": "markdown",
      "metadata": {
        "id": "a5Wl3CRtuFcq"
      },
      "source": [
        "#### 65. How to accumulate elements of a vector (X) to an array (F) based on an index list (I)? (★★★) \n",
        "(**hint**: np.bincount)"
      ]
    },
    {
      "cell_type": "code",
      "execution_count": 38,
      "metadata": {
        "id": "eXylvanHuFcq",
        "colab": {
          "base_uri": "https://localhost:8080/"
        },
        "outputId": "e67ee6a3-6567-4df0-81da-ede27c5758a7"
      },
      "outputs": [
        {
          "output_type": "stream",
          "name": "stdout",
          "text": [
            "[0. 7. 0. 6. 5. 0. 0. 0. 0. 3.]\n"
          ]
        }
      ],
      "source": [
        "X = [1,2,3,4,5,6]\n",
        "I = [1,3,9,3,4,1]\n",
        "F = np.bincount(I,X)\n",
        "print(F)"
      ]
    },
    {
      "cell_type": "markdown",
      "metadata": {
        "id": "ZYQbOhlruFcq"
      },
      "source": [
        "#### 66. Considering a (w,h,3) image of (dtype=ubyte), compute the number of unique colors (★★★) \n",
        "(**hint**: np.unique)"
      ]
    },
    {
      "cell_type": "code",
      "execution_count": 39,
      "metadata": {
        "id": "7Qke89h1uFcr",
        "colab": {
          "base_uri": "https://localhost:8080/"
        },
        "outputId": "6e264020-42b9-4500-93da-a220230e0ef6"
      },
      "outputs": [
        {
          "output_type": "stream",
          "name": "stdout",
          "text": [
            "8\n"
          ]
        }
      ],
      "source": [
        "import numpy as np\n",
        "w,h = 16,16\n",
        "I = np.random.randint(0,2,(h,w,3)).astype(np.ubyte)\n",
        "\n",
        "F = I[...,0]*(256*256) + I[...,1]*256 +I[...,2]\n",
        "n = len(np.unique(F))\n",
        "print(n)\n"
      ]
    },
    {
      "cell_type": "markdown",
      "metadata": {
        "id": "_W1iKQ1quFcr"
      },
      "source": [
        "#### 67. Considering a four dimensions array, how to get sum over the last two axis at once? (★★★) \n",
        "(**hint**: sum(axis=(-2,-1)))"
      ]
    },
    {
      "cell_type": "code",
      "execution_count": 40,
      "metadata": {
        "id": "VOoKqDQbuFcs",
        "colab": {
          "base_uri": "https://localhost:8080/"
        },
        "outputId": "3d0537c4-1c73-43d0-8fab-c2834cd49204"
      },
      "outputs": [
        {
          "output_type": "stream",
          "name": "stdout",
          "text": [
            "[[59 51 66 29]\n",
            " [53 38 69 59]\n",
            " [65 47 58 56]]\n",
            "[[59 51 66 29]\n",
            " [53 38 69 59]\n",
            " [65 47 58 56]]\n"
          ]
        }
      ],
      "source": [
        "A = np.random.randint(0,10,(3,4,3,4))\n",
        "\n",
        "sum = A.sum(axis=(-2,-1))\n",
        "print(sum)\n",
        "\n",
        "sum = A.reshape(A.shape[:-2] + (-1,)).sum(axis=-1)\n",
        "print(sum)"
      ]
    },
    {
      "cell_type": "markdown",
      "metadata": {
        "id": "AAHXlIPauFcs"
      },
      "source": [
        "#### 68. Considering a one-dimensional vector D, how to compute means of subsets of D using a vector S of same size describing subset  indices? (★★★) \n",
        "(**hint**: np.bincount)"
      ]
    },
    {
      "cell_type": "code",
      "execution_count": 41,
      "metadata": {
        "id": "n5QfeHEGuFct",
        "colab": {
          "base_uri": "https://localhost:8080/"
        },
        "outputId": "3264428f-2c7a-4669-9a8b-395a5161936b"
      },
      "outputs": [
        {
          "output_type": "stream",
          "name": "stdout",
          "text": [
            "[0.50535108 0.31360165 0.50258582 0.54595522 0.3669574  0.55890988\n",
            " 0.55871749 0.56865427 0.40641723 0.54814065]\n",
            "0    0.505351\n",
            "1    0.313602\n",
            "2    0.502586\n",
            "3    0.545955\n",
            "4    0.366957\n",
            "5    0.558910\n",
            "6    0.558717\n",
            "7    0.568654\n",
            "8    0.406417\n",
            "9    0.548141\n",
            "dtype: float64\n"
          ]
        }
      ],
      "source": [
        "D = np.random.uniform(0,1,100)\n",
        "S = np.random.randint(0,10,100)\n",
        "D_sums = np.bincount(S, weights=D)\n",
        "D_counts = np.bincount(S)\n",
        "D_means = D_sums / D_counts\n",
        "print(D_means)\n",
        "import pandas as pd\n",
        "print(pd.Series(D).groupby(S).mean())"
      ]
    },
    {
      "cell_type": "markdown",
      "metadata": {
        "id": "XTvrhr7zuFct"
      },
      "source": [
        "#### 69. How to get the diagonal of a dot product? (★★★) \n",
        "(**hint**: np.diag)"
      ]
    },
    {
      "cell_type": "code",
      "execution_count": 42,
      "metadata": {
        "id": "H-HPGgBHuFct",
        "colab": {
          "base_uri": "https://localhost:8080/"
        },
        "outputId": "b6b9af79-6e7b-443f-91a9-fe4bcd2b9ef2"
      },
      "outputs": [
        {
          "output_type": "execute_result",
          "data": {
            "text/plain": [
              "array([0.97985254, 0.82699343, 0.56907197, 0.9704953 , 1.5270937 ])"
            ]
          },
          "metadata": {},
          "execution_count": 42
        }
      ],
      "source": [
        "A = np.random.uniform(0,1,(5,5))\n",
        "B = np.random.uniform(0,1,(5,5))\n",
        "\n",
        "# Slow version  \n",
        "np.diag(np.dot(A, B))\n",
        "\n",
        "# Fast version\n",
        "np.sum(A * B.T, axis=1)\n",
        "\n",
        "# Faster version\n",
        "np.einsum(\"ij,ji->i\", A, B)"
      ]
    },
    {
      "cell_type": "markdown",
      "metadata": {
        "id": "a3-bUi2huFcu"
      },
      "source": [
        "#### 70. Consider the vector \\[1, 2, 3, 4, 5\\], how to build a new vector with 3 consecutive zeros interleaved between each value? (★★★) \n",
        "(**hint**: array\\[::4\\])"
      ]
    },
    {
      "cell_type": "code",
      "execution_count": 43,
      "metadata": {
        "id": "WBcvuK0ZuFcu",
        "colab": {
          "base_uri": "https://localhost:8080/"
        },
        "outputId": "b86cde68-2815-4ea0-d27d-40252d65cd52"
      },
      "outputs": [
        {
          "output_type": "stream",
          "name": "stdout",
          "text": [
            "[1. 0. 0. 0. 2. 0. 0. 0. 3. 0. 0. 0. 4. 0. 0. 0. 5.]\n"
          ]
        }
      ],
      "source": [
        "Z = np.array([1,2,3,4,5])\n",
        "nz = 3\n",
        "Z0 = np.zeros(len(Z) + (len(Z)-1)*(nz))\n",
        "Z0[::nz+1] = Z\n",
        "print(Z0)"
      ]
    },
    {
      "cell_type": "markdown",
      "metadata": {
        "id": "FCLvhNjOuFcv"
      },
      "source": [
        "#### 71. Consider an array of dimension (5,5,3), how to mulitply it by an array with dimensions (5,5)? (★★★) \n",
        "(**hint**: array\\[:, :, None\\])"
      ]
    },
    {
      "cell_type": "code",
      "execution_count": 44,
      "metadata": {
        "collapsed": true,
        "id": "nXiOOWzPuFcv",
        "colab": {
          "base_uri": "https://localhost:8080/"
        },
        "outputId": "02c07d8b-0e17-401d-afac-6b06710ad098"
      },
      "outputs": [
        {
          "output_type": "stream",
          "name": "stdout",
          "text": [
            "[[[2. 2. 2.]\n",
            "  [2. 2. 2.]\n",
            "  [2. 2. 2.]\n",
            "  [2. 2. 2.]\n",
            "  [2. 2. 2.]]\n",
            "\n",
            " [[2. 2. 2.]\n",
            "  [2. 2. 2.]\n",
            "  [2. 2. 2.]\n",
            "  [2. 2. 2.]\n",
            "  [2. 2. 2.]]\n",
            "\n",
            " [[2. 2. 2.]\n",
            "  [2. 2. 2.]\n",
            "  [2. 2. 2.]\n",
            "  [2. 2. 2.]\n",
            "  [2. 2. 2.]]\n",
            "\n",
            " [[2. 2. 2.]\n",
            "  [2. 2. 2.]\n",
            "  [2. 2. 2.]\n",
            "  [2. 2. 2.]\n",
            "  [2. 2. 2.]]\n",
            "\n",
            " [[2. 2. 2.]\n",
            "  [2. 2. 2.]\n",
            "  [2. 2. 2.]\n",
            "  [2. 2. 2.]\n",
            "  [2. 2. 2.]]]\n"
          ]
        }
      ],
      "source": [
        "A = np.ones((5,5,3))\n",
        "B = 2*np.ones((5,5))\n",
        "print(A * B[:,:,None])"
      ]
    },
    {
      "cell_type": "markdown",
      "metadata": {
        "id": "GXiTyYnGuFcv"
      },
      "source": [
        "#### 72. How to swap two rows of an array? (★★★) \n",
        "(**hint**: array\\[\\[\\]\\] = array\\[\\[\\]\\])"
      ]
    },
    {
      "cell_type": "code",
      "execution_count": 45,
      "metadata": {
        "id": "Jno5omvQuFcw",
        "colab": {
          "base_uri": "https://localhost:8080/"
        },
        "outputId": "64a4b8f9-aee1-4c07-fa89-d102300e2886"
      },
      "outputs": [
        {
          "output_type": "stream",
          "name": "stdout",
          "text": [
            "[[ 5  6  7  8  9]\n",
            " [ 0  1  2  3  4]\n",
            " [10 11 12 13 14]\n",
            " [15 16 17 18 19]\n",
            " [20 21 22 23 24]]\n"
          ]
        }
      ],
      "source": [
        "A = np.arange(25).reshape(5,5)\n",
        "A[[0,1]] = A[[1,0]]\n",
        "print(A)"
      ]
    },
    {
      "cell_type": "markdown",
      "metadata": {
        "id": "DVZcLsgvuFcw"
      },
      "source": [
        "#### 73. Consider a set of 10 triplets describing 10 triangles (with shared vertices), find the set of unique line segments composing all the  triangles (★★★) \n",
        "(**hint**: repeat, np.roll, np.sort, view, np.unique)"
      ]
    },
    {
      "cell_type": "code",
      "execution_count": 46,
      "metadata": {
        "id": "aqjBVl90uFcx",
        "colab": {
          "base_uri": "https://localhost:8080/"
        },
        "outputId": "567d24c8-324f-48b8-c01a-faab62e2fd72"
      },
      "outputs": [
        {
          "output_type": "stream",
          "name": "stdout",
          "text": [
            "[( 0,  7) ( 0, 10) ( 6, 66) ( 6, 97) ( 7, 10) (17, 35) (17, 81) (19, 43)\n",
            " (19, 79) (25, 50) (31, 53) (31, 63) (32, 42) (32, 78) (35, 81) (42, 78)\n",
            " (43, 79) (44, 64) (44, 72) (49, 86) (49, 97) (50, 50) (53, 63) (64, 72)\n",
            " (66, 97) (71, 82) (71, 86) (82, 86) (86, 97)]\n"
          ]
        }
      ],
      "source": [
        "faces = np.random.randint(0,100,(10,3))\n",
        "F = np.roll(faces.repeat(2,axis=1),-1,axis=1)\n",
        "F = F.reshape(len(F)*3,2)\n",
        "F = np.sort(F,axis=1)\n",
        "G = F.view( dtype=[('p0',F.dtype),('p1',F.dtype)] )\n",
        "G = np.unique(G)\n",
        "print(G)"
      ]
    },
    {
      "cell_type": "markdown",
      "metadata": {
        "id": "T7EsbeMpuFcx"
      },
      "source": [
        "#### 74. Given an array C that is a bincount, how to produce an array A such that np.bincount(A) == C? (★★★) \n",
        "(**hint**: np.repeat)"
      ]
    },
    {
      "cell_type": "code",
      "execution_count": 47,
      "metadata": {
        "id": "IJWMk5RWuFcz",
        "colab": {
          "base_uri": "https://localhost:8080/"
        },
        "outputId": "d0225644-55da-489a-e009-caca818cefd2"
      },
      "outputs": [
        {
          "output_type": "stream",
          "name": "stdout",
          "text": [
            "[1 1 2 3 4 4 6]\n"
          ]
        }
      ],
      "source": [
        "C = np.bincount([1,1,2,3,4,4,6])\n",
        "A = np.repeat(np.arange(len(C)), C)\n",
        "print(A)"
      ]
    },
    {
      "cell_type": "markdown",
      "metadata": {
        "id": "4IZ4Y1_RuFcz"
      },
      "source": [
        "#### 75. How to compute averages using a sliding window over an array? (★★★) \n",
        "(**hint**: np.cumsum)"
      ]
    },
    {
      "cell_type": "code",
      "execution_count": 48,
      "metadata": {
        "id": "7-Hr0kHTuFc0",
        "colab": {
          "base_uri": "https://localhost:8080/"
        },
        "outputId": "1b49e543-a5cd-46a9-d5a1-dfe7dcf27878"
      },
      "outputs": [
        {
          "output_type": "stream",
          "name": "stdout",
          "text": [
            "[ 1.  2.  3.  4.  5.  6.  7.  8.  9. 10. 11. 12. 13. 14. 15. 16. 17. 18.]\n"
          ]
        }
      ],
      "source": [
        "def moving_average(a, n=3) :\n",
        "    ret = np.cumsum(a, dtype=float)\n",
        "    ret[n:] = ret[n:] - ret[:-n]\n",
        "    return ret[n - 1:] / n\n",
        "Z = np.arange(20)\n",
        "print(moving_average(Z, n=3))"
      ]
    },
    {
      "cell_type": "markdown",
      "metadata": {
        "id": "pqPNEeucuFc0"
      },
      "source": [
        "#### 76. Consider a one-dimensional array Z, build a two-dimensional array whose first row is (Z\\[0\\],Z\\[1\\],Z\\[2\\]) and each subsequent row is  shifted by 1 (last row should be (Z\\[-3\\],Z\\[-2\\],Z\\[-1\\]) (★★★) \n",
        "(**hint**: from numpy.lib import stride_tricks)"
      ]
    },
    {
      "cell_type": "code",
      "execution_count": 49,
      "metadata": {
        "id": "9xWUAF9QuFc2",
        "colab": {
          "base_uri": "https://localhost:8080/"
        },
        "outputId": "35441cb1-07a5-4bba-8738-946ba0d3966e"
      },
      "outputs": [
        {
          "output_type": "stream",
          "name": "stdout",
          "text": [
            "[[0 1 2]\n",
            " [1 2 3]\n",
            " [2 3 4]\n",
            " [3 4 5]\n",
            " [4 5 6]\n",
            " [5 6 7]\n",
            " [6 7 8]\n",
            " [7 8 9]]\n"
          ]
        }
      ],
      "source": [
        "from numpy.lib import stride_tricks\n",
        "\n",
        "def rolling(a, window):\n",
        "    shape = (a.size - window + 1, window)\n",
        "    strides = (a.itemsize, a.itemsize)\n",
        "    return stride_tricks.as_strided(a, shape=shape, strides=strides)\n",
        "Z = rolling(np.arange(10), 3)\n",
        "print(Z)"
      ]
    },
    {
      "cell_type": "markdown",
      "metadata": {
        "id": "Pw3c1OWiuFc2"
      },
      "source": [
        "#### 77. How to negate a boolean, or to change the sign of a float inplace? (★★★) \n",
        "(**hint**: np.logical_not, np.negative)"
      ]
    },
    {
      "cell_type": "code",
      "execution_count": 50,
      "metadata": {
        "id": "iPEgdKuHuFc3",
        "colab": {
          "base_uri": "https://localhost:8080/"
        },
        "outputId": "85b7aab9-9d03-44c4-f18e-01c9638fdbee"
      },
      "outputs": [
        {
          "output_type": "execute_result",
          "data": {
            "text/plain": [
              "array([-0.24595912, -0.08619766, -0.54643423,  0.86410176, -0.38281859,\n",
              "        0.24284282,  0.16122614,  0.89799537,  0.01805148, -0.96153276,\n",
              "       -0.37519964, -0.79343015, -0.33879302,  0.70229932,  0.15560451,\n",
              "        0.65687424,  0.31188748,  0.24796634, -0.24655669,  0.43837308,\n",
              "       -0.07091735, -0.15386497, -0.006671  ,  0.48609838, -0.69497718,\n",
              "       -0.99337473,  0.64231014, -0.84184857,  0.28775548,  0.02063773,\n",
              "        0.42045432, -0.36277431, -0.33945982, -0.19245084, -0.35752174,\n",
              "        0.96613609, -0.3837475 ,  0.69349043, -0.31839812,  0.52281081,\n",
              "        0.23347813,  0.92779479,  0.81917193,  0.77752355, -0.45520176,\n",
              "        0.92759615,  0.31990114, -0.82031224, -0.24217727,  0.22819553,\n",
              "        0.61758094,  0.27067402,  0.99093175,  0.69210953,  0.15506045,\n",
              "        0.08523728, -0.69669371, -0.86753009, -0.67308209, -0.07864874,\n",
              "       -0.14623902,  0.88867133, -0.54399404,  0.99992322, -0.875192  ,\n",
              "       -0.49547625, -0.83296298,  0.43126585,  0.74030222,  0.29585538,\n",
              "       -0.32865827,  0.63496034, -0.68109513, -0.64965718, -0.60956127,\n",
              "        0.13321872, -0.6416048 ,  0.11769283, -0.19351403,  0.17787188,\n",
              "        0.5253143 ,  0.18179784, -0.62800257,  0.84389813, -0.61817602,\n",
              "        0.26384751,  0.99371366, -0.34972376,  0.59222954, -0.55678894,\n",
              "        0.65500327, -0.84697099,  0.59301326, -0.24419879,  0.4282859 ,\n",
              "       -0.4953119 , -0.82011036, -0.7863421 ,  0.65213751,  0.77301709])"
            ]
          },
          "metadata": {},
          "execution_count": 50
        }
      ],
      "source": [
        "Z = np.random.randint(0,2,100)\n",
        "np.logical_not(Z, out=Z)\n",
        "\n",
        "Z = np.random.uniform(-1.0,1.0,100)\n",
        "np.negative(Z, out=Z)"
      ]
    },
    {
      "cell_type": "markdown",
      "metadata": {
        "id": "jFy9ApSguFc3"
      },
      "source": [
        "#### 78. Consider 2 sets of points P0,P1 describing lines (2d) and a point p, how to compute distance from p to each line i  (P0\\[i\\],P1\\[i\\])? (★★★)"
      ]
    },
    {
      "cell_type": "code",
      "execution_count": 51,
      "metadata": {
        "id": "a2uffUgXuFc4",
        "colab": {
          "base_uri": "https://localhost:8080/"
        },
        "outputId": "c069d892-6e61-4c16-e899-77f9608d7da7"
      },
      "outputs": [
        {
          "output_type": "stream",
          "name": "stdout",
          "text": [
            "[ 1.01267748  2.36240579 11.27058342  4.35259997  7.92068972  2.1973799\n",
            "  5.8611494   7.04432795  1.67970934  0.26981784]\n"
          ]
        }
      ],
      "source": [
        "def distance(P0, P1, p):\n",
        "    T = P1 - P0\n",
        "    L = (T**2).sum(axis=1)\n",
        "    U = -((P0[:,0]-p[...,0])*T[:,0] + (P0[:,1]-p[...,1])*T[:,1]) / L\n",
        "    U = U.reshape(len(U),1)\n",
        "    D = P0 + U*T - p\n",
        "    return np.sqrt((D**2).sum(axis=1))\n",
        "\n",
        "P0 = np.random.uniform(-10,10,(10,2))\n",
        "P1 = np.random.uniform(-10,10,(10,2))\n",
        "p  = np.random.uniform(-10,10,( 1,2))\n",
        "print(distance(P0, P1, p))"
      ]
    },
    {
      "cell_type": "markdown",
      "metadata": {
        "id": "JzYE-ZGKuFc4"
      },
      "source": [
        "#### 79. Consider 2 sets of points P0,P1 describing lines (2d) and a set of points P, how to compute distance from each point j (P\\[j\\]) to each line i (P0\\[i\\],P1\\[i\\])? (★★★)"
      ]
    },
    {
      "cell_type": "code",
      "execution_count": 52,
      "metadata": {
        "id": "65BelMLYuFc4",
        "colab": {
          "base_uri": "https://localhost:8080/"
        },
        "outputId": "3b6ecf20-1302-4705-f8ac-f4c19862c9a3"
      },
      "outputs": [
        {
          "output_type": "stream",
          "name": "stdout",
          "text": [
            "[[ 0.62132703  2.11215024  8.07085743  2.12214402  8.61716091  2.53803763\n",
            "   6.8032602   5.43516378  3.49462278  2.00400871]\n",
            " [ 1.93134492  6.76623863 11.86432047  2.6144636  12.35244275  5.94039885\n",
            "   8.03832306 10.3208989   6.69526646  5.48992659]\n",
            " [ 0.14883382  2.33512684  4.92541639  6.632035    5.52937621  0.22239021\n",
            "   6.10279646  0.81500289  0.93068101  1.49698796]\n",
            " [ 6.94101917  1.06141038 13.79978138  2.96847627 14.38752153  8.51033712\n",
            "  13.11340464  4.99785895  9.56372456  1.11770439]\n",
            " [10.0872999   6.43632067  0.27612997  1.8766223   0.16509748  6.45188821\n",
            "   3.92729032  8.77443197  5.77513053  9.4516329 ]\n",
            " [ 5.23805962  3.55341576  9.63616462  7.678746   10.27986686  4.72505252\n",
            "  11.48638426  0.11268519  5.97532539  4.43163863]\n",
            " [ 0.56736327  3.30079219  3.99227031  7.61976857  4.60767435  1.07782684\n",
            "   5.7004063   0.21349086  0.11596139  2.16849348]\n",
            " [12.69519707  0.3727047   6.11550488  4.32488582  5.60233067 11.80283707\n",
            "   6.43392609  2.31832972 10.87025265  5.22800157]\n",
            " [ 6.53294608 12.32595344  6.41233591  7.93462295  6.78805007  0.2138933\n",
            "   0.47537882 15.14806446  0.2222917  13.19364645]\n",
            " [ 2.39219926  3.4453137   6.86106987  7.66570035  7.49111579  1.87344833\n",
            "   8.65029165  0.06328199  3.09674836  3.33557781]]\n"
          ]
        }
      ],
      "source": [
        "P0 = np.random.uniform(-10, 10, (10,2))\n",
        "P1 = np.random.uniform(-10,10,(10,2))\n",
        "p = np.random.uniform(-10, 10, (10,2))\n",
        "print(np.array([distance(P0,P1,p_i) for p_i in p]))"
      ]
    },
    {
      "cell_type": "markdown",
      "metadata": {
        "id": "UneznQFuuFc5"
      },
      "source": [
        "#### 80. Consider an arbitrary array, write a function that extract a subpart with a fixed shape and centered on a given element (pad with a `fill` value when necessary) (★★★) \n",
        "(**hint**: minimum, maximum)"
      ]
    },
    {
      "cell_type": "code",
      "execution_count": 53,
      "metadata": {
        "id": "XwRD2Qg9uFc6",
        "colab": {
          "base_uri": "https://localhost:8080/"
        },
        "outputId": "9b7d7a87-0cfa-4d33-81f9-e8b1bbdece0d"
      },
      "outputs": [
        {
          "output_type": "stream",
          "name": "stdout",
          "text": [
            "[[3 9 4 3 4 8 0 0 5 7]\n",
            " [5 0 2 3 4 1 4 5 0 5]\n",
            " [8 2 2 0 6 7 4 1 6 4]\n",
            " [3 5 8 1 1 3 8 3 8 3]\n",
            " [2 6 8 8 6 8 1 9 0 6]\n",
            " [2 0 8 0 6 4 5 3 7 4]\n",
            " [2 9 7 5 1 9 7 6 4 4]\n",
            " [4 6 8 7 0 5 3 3 3 9]\n",
            " [4 1 2 9 9 0 5 2 2 2]\n",
            " [3 5 1 4 2 9 2 5 3 1]]\n",
            "[[0 0 0 0 0]\n",
            " [0 3 9 4 3]\n",
            " [0 5 0 2 3]\n",
            " [0 8 2 2 0]\n",
            " [0 3 5 8 1]]\n"
          ]
        },
        {
          "output_type": "stream",
          "name": "stderr",
          "text": [
            "<ipython-input-53-f2b5781f38bf>:23: FutureWarning: Using a non-tuple sequence for multidimensional indexing is deprecated; use `arr[tuple(seq)]` instead of `arr[seq]`. In the future this will be interpreted as an array index, `arr[np.array(seq)]`, which will result either in an error or a different result.\n",
            "  R[r] = Z[z]\n"
          ]
        }
      ],
      "source": [
        "Z = np.random.randint(0,10,(10,10))\n",
        "shape = (5,5)\n",
        "fill  = 0\n",
        "position = (1,1)\n",
        "\n",
        "R = np.ones(shape, dtype=Z.dtype)*fill\n",
        "P  = np.array(list(position)).astype(int)\n",
        "Rs = np.array(list(R.shape)).astype(int)\n",
        "Zs = np.array(list(Z.shape)).astype(int)\n",
        "\n",
        "R_start = np.zeros((len(shape),)).astype(int)\n",
        "R_stop  = np.array(list(shape)).astype(int)\n",
        "Z_start = (P-Rs//2)\n",
        "Z_stop  = (P+Rs//2)+Rs%2\n",
        "\n",
        "R_start = (R_start - np.minimum(Z_start,0)).tolist()\n",
        "Z_start = (np.maximum(Z_start,0)).tolist()\n",
        "R_stop = np.maximum(R_start, (R_stop - np.maximum(Z_stop-Zs,0))).tolist()\n",
        "Z_stop = (np.minimum(Z_stop,Zs)).tolist()\n",
        "\n",
        "r = [slice(start,stop) for start,stop in zip(R_start,R_stop)]\n",
        "z = [slice(start,stop) for start,stop in zip(Z_start,Z_stop)]\n",
        "R[r] = Z[z]\n",
        "print(Z)\n",
        "print(R)"
      ]
    },
    {
      "cell_type": "markdown",
      "metadata": {
        "id": "c7Itq1U3uFc6"
      },
      "source": [
        "#### 81. Consider an array Z = \\[1,2,3,4,5,6,7,8,9,10,11,12,13,14\\], how to generate an array R = \\[\\[1,2,3,4\\], \\[2,3,4,5\\], \\[3,4,5,6\\], ..., \\[11,12,13,14\\]\\]? (★★★) \n",
        "(**hint**: stride\\_tricks.as\\_strided)"
      ]
    },
    {
      "cell_type": "code",
      "execution_count": 54,
      "metadata": {
        "id": "O5aeSepouFc6",
        "colab": {
          "base_uri": "https://localhost:8080/"
        },
        "outputId": "8fe79ff6-6ae0-4da2-d97f-780b21e8d2e5"
      },
      "outputs": [
        {
          "output_type": "stream",
          "name": "stdout",
          "text": [
            "[[ 1  2  3  4]\n",
            " [ 2  3  4  5]\n",
            " [ 3  4  5  6]\n",
            " [ 4  5  6  7]\n",
            " [ 5  6  7  8]\n",
            " [ 6  7  8  9]\n",
            " [ 7  8  9 10]\n",
            " [ 8  9 10 11]\n",
            " [ 9 10 11 12]\n",
            " [10 11 12 13]\n",
            " [11 12 13 14]]\n"
          ]
        }
      ],
      "source": [
        "Z = np.arange(1,15,dtype=np.uint32)\n",
        "R = stride_tricks.as_strided(Z,(11,4),(4,4))\n",
        "print(R)"
      ]
    },
    {
      "cell_type": "markdown",
      "metadata": {
        "id": "F5sxpxocuFc6"
      },
      "source": [
        "#### 82. Compute a matrix rank (★★★) \n",
        "(**hint**: np.linalg.svd) (suggestion: np.linalg.svd)"
      ]
    },
    {
      "cell_type": "code",
      "execution_count": 55,
      "metadata": {
        "id": "QTLQs118uFc7",
        "colab": {
          "base_uri": "https://localhost:8080/"
        },
        "outputId": "4b1dac21-a95b-46f7-e866-76e95bfaea8a"
      },
      "outputs": [
        {
          "output_type": "stream",
          "name": "stdout",
          "text": [
            "10\n"
          ]
        }
      ],
      "source": [
        "Z = np.random.uniform(0,1,(10,10))\n",
        "U, S, V = np.linalg.svd(Z) # Singular Value Decomposition\n",
        "rank = np.sum(S > 1e-10)\n",
        "print(rank)"
      ]
    },
    {
      "cell_type": "markdown",
      "metadata": {
        "id": "a7fkNF3duFc7"
      },
      "source": [
        "#### 83. How to find the most frequent value in an array? \n",
        "(**hint**: np.bincount, argmax)"
      ]
    },
    {
      "cell_type": "code",
      "execution_count": 56,
      "metadata": {
        "id": "leX373YnuFc7",
        "colab": {
          "base_uri": "https://localhost:8080/"
        },
        "outputId": "947ebcc3-dd27-4e91-8816-bbb062b97627"
      },
      "outputs": [
        {
          "output_type": "stream",
          "name": "stdout",
          "text": [
            "2\n"
          ]
        }
      ],
      "source": [
        "Z = np.random.randint(0,10,50)\n",
        "print(np.bincount(Z).argmax())"
      ]
    },
    {
      "cell_type": "markdown",
      "metadata": {
        "id": "eSbxnW_fuFc8"
      },
      "source": [
        "#### 84. Extract all the contiguous 3x3 blocks from a random 10x10 matrix (★★★) \n",
        "(**hint**: stride\\_tricks.as\\_strided)"
      ]
    },
    {
      "cell_type": "code",
      "execution_count": 57,
      "metadata": {
        "id": "BWntzO-EuFc8",
        "colab": {
          "base_uri": "https://localhost:8080/"
        },
        "outputId": "4b9d384b-14a8-4d6f-c060-d0343a490c6e"
      },
      "outputs": [
        {
          "output_type": "stream",
          "name": "stdout",
          "text": [
            "[[[[1 0 0]\n",
            "   [0 1 4]\n",
            "   [0 4 4]]\n",
            "\n",
            "  [[0 0 4]\n",
            "   [1 4 0]\n",
            "   [4 4 0]]\n",
            "\n",
            "  [[0 4 3]\n",
            "   [4 0 0]\n",
            "   [4 0 4]]\n",
            "\n",
            "  [[4 3 0]\n",
            "   [0 0 0]\n",
            "   [0 4 3]]\n",
            "\n",
            "  [[3 0 1]\n",
            "   [0 0 1]\n",
            "   [4 3 1]]\n",
            "\n",
            "  [[0 1 3]\n",
            "   [0 1 0]\n",
            "   [3 1 3]]\n",
            "\n",
            "  [[1 3 4]\n",
            "   [1 0 3]\n",
            "   [1 3 0]]\n",
            "\n",
            "  [[3 4 2]\n",
            "   [0 3 3]\n",
            "   [3 0 2]]]\n",
            "\n",
            "\n",
            " [[[0 1 4]\n",
            "   [0 4 4]\n",
            "   [4 2 0]]\n",
            "\n",
            "  [[1 4 0]\n",
            "   [4 4 0]\n",
            "   [2 0 3]]\n",
            "\n",
            "  [[4 0 0]\n",
            "   [4 0 4]\n",
            "   [0 3 2]]\n",
            "\n",
            "  [[0 0 0]\n",
            "   [0 4 3]\n",
            "   [3 2 2]]\n",
            "\n",
            "  [[0 0 1]\n",
            "   [4 3 1]\n",
            "   [2 2 3]]\n",
            "\n",
            "  [[0 1 0]\n",
            "   [3 1 3]\n",
            "   [2 3 4]]\n",
            "\n",
            "  [[1 0 3]\n",
            "   [1 3 0]\n",
            "   [3 4 1]]\n",
            "\n",
            "  [[0 3 3]\n",
            "   [3 0 2]\n",
            "   [4 1 1]]]\n",
            "\n",
            "\n",
            " [[[0 4 4]\n",
            "   [4 2 0]\n",
            "   [3 1 3]]\n",
            "\n",
            "  [[4 4 0]\n",
            "   [2 0 3]\n",
            "   [1 3 3]]\n",
            "\n",
            "  [[4 0 4]\n",
            "   [0 3 2]\n",
            "   [3 3 2]]\n",
            "\n",
            "  [[0 4 3]\n",
            "   [3 2 2]\n",
            "   [3 2 2]]\n",
            "\n",
            "  [[4 3 1]\n",
            "   [2 2 3]\n",
            "   [2 2 2]]\n",
            "\n",
            "  [[3 1 3]\n",
            "   [2 3 4]\n",
            "   [2 2 0]]\n",
            "\n",
            "  [[1 3 0]\n",
            "   [3 4 1]\n",
            "   [2 0 3]]\n",
            "\n",
            "  [[3 0 2]\n",
            "   [4 1 1]\n",
            "   [0 3 1]]]\n",
            "\n",
            "\n",
            " [[[4 2 0]\n",
            "   [3 1 3]\n",
            "   [3 0 3]]\n",
            "\n",
            "  [[2 0 3]\n",
            "   [1 3 3]\n",
            "   [0 3 4]]\n",
            "\n",
            "  [[0 3 2]\n",
            "   [3 3 2]\n",
            "   [3 4 3]]\n",
            "\n",
            "  [[3 2 2]\n",
            "   [3 2 2]\n",
            "   [4 3 3]]\n",
            "\n",
            "  [[2 2 3]\n",
            "   [2 2 2]\n",
            "   [3 3 4]]\n",
            "\n",
            "  [[2 3 4]\n",
            "   [2 2 0]\n",
            "   [3 4 0]]\n",
            "\n",
            "  [[3 4 1]\n",
            "   [2 0 3]\n",
            "   [4 0 0]]\n",
            "\n",
            "  [[4 1 1]\n",
            "   [0 3 1]\n",
            "   [0 0 1]]]\n",
            "\n",
            "\n",
            " [[[3 1 3]\n",
            "   [3 0 3]\n",
            "   [4 0 0]]\n",
            "\n",
            "  [[1 3 3]\n",
            "   [0 3 4]\n",
            "   [0 0 0]]\n",
            "\n",
            "  [[3 3 2]\n",
            "   [3 4 3]\n",
            "   [0 0 2]]\n",
            "\n",
            "  [[3 2 2]\n",
            "   [4 3 3]\n",
            "   [0 2 3]]\n",
            "\n",
            "  [[2 2 2]\n",
            "   [3 3 4]\n",
            "   [2 3 3]]\n",
            "\n",
            "  [[2 2 0]\n",
            "   [3 4 0]\n",
            "   [3 3 1]]\n",
            "\n",
            "  [[2 0 3]\n",
            "   [4 0 0]\n",
            "   [3 1 0]]\n",
            "\n",
            "  [[0 3 1]\n",
            "   [0 0 1]\n",
            "   [1 0 0]]]\n",
            "\n",
            "\n",
            " [[[3 0 3]\n",
            "   [4 0 0]\n",
            "   [0 0 2]]\n",
            "\n",
            "  [[0 3 4]\n",
            "   [0 0 0]\n",
            "   [0 2 4]]\n",
            "\n",
            "  [[3 4 3]\n",
            "   [0 0 2]\n",
            "   [2 4 1]]\n",
            "\n",
            "  [[4 3 3]\n",
            "   [0 2 3]\n",
            "   [4 1 4]]\n",
            "\n",
            "  [[3 3 4]\n",
            "   [2 3 3]\n",
            "   [1 4 4]]\n",
            "\n",
            "  [[3 4 0]\n",
            "   [3 3 1]\n",
            "   [4 4 1]]\n",
            "\n",
            "  [[4 0 0]\n",
            "   [3 1 0]\n",
            "   [4 1 3]]\n",
            "\n",
            "  [[0 0 1]\n",
            "   [1 0 0]\n",
            "   [1 3 4]]]\n",
            "\n",
            "\n",
            " [[[4 0 0]\n",
            "   [0 0 2]\n",
            "   [1 2 1]]\n",
            "\n",
            "  [[0 0 0]\n",
            "   [0 2 4]\n",
            "   [2 1 2]]\n",
            "\n",
            "  [[0 0 2]\n",
            "   [2 4 1]\n",
            "   [1 2 0]]\n",
            "\n",
            "  [[0 2 3]\n",
            "   [4 1 4]\n",
            "   [2 0 3]]\n",
            "\n",
            "  [[2 3 3]\n",
            "   [1 4 4]\n",
            "   [0 3 2]]\n",
            "\n",
            "  [[3 3 1]\n",
            "   [4 4 1]\n",
            "   [3 2 1]]\n",
            "\n",
            "  [[3 1 0]\n",
            "   [4 1 3]\n",
            "   [2 1 0]]\n",
            "\n",
            "  [[1 0 0]\n",
            "   [1 3 4]\n",
            "   [1 0 0]]]\n",
            "\n",
            "\n",
            " [[[0 0 2]\n",
            "   [1 2 1]\n",
            "   [3 1 3]]\n",
            "\n",
            "  [[0 2 4]\n",
            "   [2 1 2]\n",
            "   [1 3 4]]\n",
            "\n",
            "  [[2 4 1]\n",
            "   [1 2 0]\n",
            "   [3 4 1]]\n",
            "\n",
            "  [[4 1 4]\n",
            "   [2 0 3]\n",
            "   [4 1 0]]\n",
            "\n",
            "  [[1 4 4]\n",
            "   [0 3 2]\n",
            "   [1 0 1]]\n",
            "\n",
            "  [[4 4 1]\n",
            "   [3 2 1]\n",
            "   [0 1 1]]\n",
            "\n",
            "  [[4 1 3]\n",
            "   [2 1 0]\n",
            "   [1 1 2]]\n",
            "\n",
            "  [[1 3 4]\n",
            "   [1 0 0]\n",
            "   [1 2 3]]]]\n"
          ]
        }
      ],
      "source": [
        "Z = np.random.randint(0,5,(10,10))\n",
        "n = 3\n",
        "i = 1 + (Z.shape[0]-3)\n",
        "j = 1 + (Z.shape[1]-3)\n",
        "C = stride_tricks.as_strided(Z, shape=(i, j, n, n), strides=Z.strides + Z.strides)\n",
        "print(C)"
      ]
    },
    {
      "cell_type": "markdown",
      "metadata": {
        "id": "8DMaQfDPuFc8"
      },
      "source": [
        "#### 85. Create a 2D array subclass such that Z\\[i,j\\] == Z\\[j,i\\] (★★★) \n",
        "(**hint**: class method)"
      ]
    },
    {
      "cell_type": "code",
      "execution_count": 58,
      "metadata": {
        "id": "2YhnZEV6uFc9",
        "colab": {
          "base_uri": "https://localhost:8080/"
        },
        "outputId": "6f71126e-9a78-4d53-9e51-06500a8e77f6"
      },
      "outputs": [
        {
          "output_type": "stream",
          "name": "stdout",
          "text": [
            "[[ 5 14  6 11 10]\n",
            " [14  3 16 10 11]\n",
            " [ 6 16  0 42 10]\n",
            " [11 10 42  0  5]\n",
            " [10 11 10  5  1]]\n"
          ]
        }
      ],
      "source": [
        "class Symetric(np.ndarray):\n",
        "    def __setitem__(self, index, value):\n",
        "        i,j = index\n",
        "        super(Symetric, self).__setitem__((i,j), value)\n",
        "        super(Symetric, self).__setitem__((j,i), value)\n",
        "\n",
        "def symetric(Z):\n",
        "    return np.asarray(Z + Z.T - np.diag(Z.diagonal())).view(Symetric)\n",
        "\n",
        "S = symetric(np.random.randint(0,10,(5,5)))\n",
        "S[2,3] = 42\n",
        "print(S)"
      ]
    },
    {
      "cell_type": "markdown",
      "metadata": {
        "id": "97KilEC4uFc9"
      },
      "source": [
        "#### 86. Consider a set of p matrices wich shape (n,n) and a set of p vectors with shape (n,1). How to compute the sum of of the p matrix products at once? (result has shape (n,1)) (★★★) \n",
        "(**hint**: np.tensordot)"
      ]
    },
    {
      "cell_type": "code",
      "execution_count": 59,
      "metadata": {
        "id": "b0d5simguFc-",
        "colab": {
          "base_uri": "https://localhost:8080/"
        },
        "outputId": "a1a68068-6cc5-487e-e3fa-270fc16e3a36"
      },
      "outputs": [
        {
          "output_type": "stream",
          "name": "stdout",
          "text": [
            "[[200.]\n",
            " [200.]\n",
            " [200.]\n",
            " [200.]\n",
            " [200.]\n",
            " [200.]\n",
            " [200.]\n",
            " [200.]\n",
            " [200.]\n",
            " [200.]\n",
            " [200.]\n",
            " [200.]\n",
            " [200.]\n",
            " [200.]\n",
            " [200.]\n",
            " [200.]\n",
            " [200.]\n",
            " [200.]\n",
            " [200.]\n",
            " [200.]]\n"
          ]
        }
      ],
      "source": [
        "p, n = 10, 20\n",
        "M = np.ones((p,n,n))\n",
        "V = np.ones((p,n,1))\n",
        "S = np.tensordot(M, V, axes=[[0, 2], [0, 1]])\n",
        "print(S)"
      ]
    },
    {
      "cell_type": "markdown",
      "metadata": {
        "id": "xS9dykcruFc-"
      },
      "source": [
        "#### 87. Consider a 16x16 array, how to get the block-sum (block size is 4x4)? (★★★) \n",
        "(**hint**: np.add.reduceat)"
      ]
    },
    {
      "cell_type": "code",
      "execution_count": 60,
      "metadata": {
        "id": "2sznU0LbuFc-",
        "colab": {
          "base_uri": "https://localhost:8080/"
        },
        "outputId": "d4261b2e-3b7d-4082-e436-f13647697a42"
      },
      "outputs": [
        {
          "output_type": "stream",
          "name": "stdout",
          "text": [
            "[[16. 16. 16. 16.]\n",
            " [16. 16. 16. 16.]\n",
            " [16. 16. 16. 16.]\n",
            " [16. 16. 16. 16.]]\n"
          ]
        }
      ],
      "source": [
        "Z = np.ones((16,16))\n",
        "k = 4\n",
        "S = np.add.reduceat(np.add.reduceat(Z, np.arange(0, Z.shape[0], k), axis=0),\n",
        "                                       np.arange(0, Z.shape[1], k), axis=1)\n",
        "print(S)"
      ]
    },
    {
      "cell_type": "markdown",
      "metadata": {
        "id": "YlrX5VJOuFc-"
      },
      "source": [
        "#### 88. How to implement the Game of Life using numpy arrays? (★★★)"
      ]
    },
    {
      "cell_type": "code",
      "execution_count": 61,
      "metadata": {
        "id": "bCExLgypuFc_",
        "colab": {
          "base_uri": "https://localhost:8080/"
        },
        "outputId": "6078441e-e198-4240-d57f-c6b563e34c22"
      },
      "outputs": [
        {
          "output_type": "stream",
          "name": "stdout",
          "text": [
            "[[0 0 0 ... 0 0 0]\n",
            " [0 0 0 ... 0 0 0]\n",
            " [0 0 0 ... 0 0 0]\n",
            " ...\n",
            " [0 0 0 ... 0 0 0]\n",
            " [0 0 0 ... 0 0 0]\n",
            " [0 0 0 ... 0 0 0]]\n"
          ]
        }
      ],
      "source": [
        "def iterate(Z):\n",
        "    # Count neighbours\n",
        "    N = (Z[0:-2,0:-2] + Z[0:-2,1:-1] + Z[0:-2,2:] +\n",
        "         Z[1:-1,0:-2]                + Z[1:-1,2:] +\n",
        "         Z[2:  ,0:-2] + Z[2:  ,1:-1] + Z[2:  ,2:])\n",
        "\n",
        "    # Apply rules\n",
        "    birth = (N==3) & (Z[1:-1,1:-1]==0)\n",
        "    survive = ((N==2) | (N==3)) & (Z[1:-1,1:-1]==1)\n",
        "    Z[...] = 0\n",
        "    Z[1:-1,1:-1][birth | survive] = 1\n",
        "    return Z\n",
        "\n",
        "Z = np.random.randint(0,2,(50,50))\n",
        "for i in range(100): Z = iterate(Z)\n",
        "print(Z)"
      ]
    },
    {
      "cell_type": "markdown",
      "metadata": {
        "id": "4anVfRqcuFc_"
      },
      "source": [
        "#### 89. How to get the n largest values of an array (★★★) \n",
        "(**hint**: np.argsort | np.argpartition)"
      ]
    },
    {
      "cell_type": "code",
      "execution_count": 62,
      "metadata": {
        "id": "8kfYPm95uFc_",
        "colab": {
          "base_uri": "https://localhost:8080/"
        },
        "outputId": "5841ee3f-54fe-453f-caab-30de1abf83b6"
      },
      "outputs": [
        {
          "output_type": "stream",
          "name": "stdout",
          "text": [
            "[9995 9996 9997 9998 9999]\n",
            "[9999 9998 9997 9996 9995]\n"
          ]
        }
      ],
      "source": [
        "Z = np.arange(10000)\n",
        "np.random.shuffle(Z)\n",
        "n = 5\n",
        "\n",
        "# Slow\n",
        "print (Z[np.argsort(Z)[-n:]])\n",
        "\n",
        "# Fast\n",
        "print (Z[np.argpartition(-Z,n)[:n]])"
      ]
    },
    {
      "cell_type": "markdown",
      "metadata": {
        "id": "hY65VUk_uFc_"
      },
      "source": [
        "#### 90. Given an arbitrary number of vectors, build the cartesian product (every combinations of every item) (★★★) \n",
        "(**hint**: np.indices)"
      ]
    },
    {
      "cell_type": "code",
      "execution_count": 63,
      "metadata": {
        "scrolled": true,
        "id": "Fj1mM5SLuFdA",
        "colab": {
          "base_uri": "https://localhost:8080/"
        },
        "outputId": "c019ead5-9ec0-4784-c600-a50d5f1f66b4"
      },
      "outputs": [
        {
          "output_type": "stream",
          "name": "stdout",
          "text": [
            "[[1 4 6]\n",
            " [1 4 7]\n",
            " [1 5 6]\n",
            " [1 5 7]\n",
            " [2 4 6]\n",
            " [2 4 7]\n",
            " [2 5 6]\n",
            " [2 5 7]\n",
            " [3 4 6]\n",
            " [3 4 7]\n",
            " [3 5 6]\n",
            " [3 5 7]]\n"
          ]
        }
      ],
      "source": [
        "def cartesian(arrays):\n",
        "    arrays = [np.asarray(a) for a in arrays]\n",
        "    shape = (len(x) for x in arrays)\n",
        "\n",
        "    ix = np.indices(shape, dtype=int)\n",
        "    ix = ix.reshape(len(arrays), -1).T\n",
        "\n",
        "    for n, arr in enumerate(arrays):\n",
        "        ix[:, n] = arrays[n][ix[:, n]]\n",
        "\n",
        "    return ix\n",
        "\n",
        "print (cartesian(([1, 2, 3], [4, 5], [6, 7])))"
      ]
    },
    {
      "cell_type": "markdown",
      "metadata": {
        "id": "V4dBQTPiuFdA"
      },
      "source": [
        "#### 91. How to create a record array from a regular array? (★★★) \n",
        "(**hint**: np.core.records.fromarrays)"
      ]
    },
    {
      "cell_type": "code",
      "execution_count": 64,
      "metadata": {
        "id": "y3JhSprXuFdA",
        "colab": {
          "base_uri": "https://localhost:8080/"
        },
        "outputId": "5eff099d-b56f-40c6-f01b-5228b5fe0cb9"
      },
      "outputs": [
        {
          "output_type": "stream",
          "name": "stdout",
          "text": [
            "[(b'Hello', 2.5, 3) (b'World', 3.6, 2)]\n"
          ]
        }
      ],
      "source": [
        "Z = np.array([(\"Hello\", 2.5, 3),\n",
        "              (\"World\", 3.6, 2)])\n",
        "R = np.core.records.fromarrays(Z.T, \n",
        "                               names='col1, col2, col3',\n",
        "                               formats = 'S8, f8, i8')\n",
        "print(R)"
      ]
    },
    {
      "cell_type": "markdown",
      "metadata": {
        "id": "eKsHEkXruFdB"
      },
      "source": [
        "#### 92. Consider a large vector Z, compute Z to the power of 3 using 3 different methods (★★★) \n",
        "(**hint**: np.power, \\*, np.einsum)"
      ]
    },
    {
      "cell_type": "code",
      "execution_count": null,
      "metadata": {
        "id": "Qjg6n-YluFdB"
      },
      "outputs": [],
      "source": []
    },
    {
      "cell_type": "markdown",
      "metadata": {
        "id": "j5nke5aQuFdB"
      },
      "source": [
        "#### 93. Consider two arrays A and B of shape (8,3) and (2,2). How to find rows of A that contain elements of each row of B regardless of the order of the elements in B? (★★★) \n",
        "(**hint**: np.where)"
      ]
    },
    {
      "cell_type": "code",
      "execution_count": 65,
      "metadata": {
        "id": "onzkddqXuFdB",
        "colab": {
          "base_uri": "https://localhost:8080/"
        },
        "outputId": "4a9af443-de1e-4ff7-ff9a-f404bc58b39f"
      },
      "outputs": [
        {
          "output_type": "stream",
          "name": "stdout",
          "text": [
            "[]\n"
          ]
        }
      ],
      "source": [
        "A = np.random.randint(0,5,(8,3))\n",
        "B = np.random.randint(0,5,(2,2))\n",
        "\n",
        "C = (A[..., np.newaxis, np.newaxis] == B)\n",
        "rows = np.where(C.any((3,1)).all(1))[0]\n",
        "print(rows)"
      ]
    },
    {
      "cell_type": "markdown",
      "metadata": {
        "id": "EjyPHrd6uFdC"
      },
      "source": [
        "#### 94. Considering a 10x3 matrix, extract rows with unequal values (e.g. \\[2,2,3\\]) (★★★)"
      ]
    },
    {
      "cell_type": "code",
      "execution_count": 66,
      "metadata": {
        "id": "Tj_OuxNuuFdC",
        "colab": {
          "base_uri": "https://localhost:8080/"
        },
        "outputId": "8ca0203c-6266-4cfe-a614-80250dc7448e"
      },
      "outputs": [
        {
          "output_type": "stream",
          "name": "stdout",
          "text": [
            "[[3 0 4]\n",
            " [4 2 4]\n",
            " [2 3 2]\n",
            " [2 1 2]\n",
            " [0 1 4]\n",
            " [2 2 4]\n",
            " [1 0 0]\n",
            " [3 2 3]\n",
            " [0 4 1]\n",
            " [0 2 4]]\n",
            "[[3 0 4]\n",
            " [4 2 4]\n",
            " [2 3 2]\n",
            " [2 1 2]\n",
            " [0 1 4]\n",
            " [2 2 4]\n",
            " [1 0 0]\n",
            " [3 2 3]\n",
            " [0 4 1]\n",
            " [0 2 4]]\n",
            "[[3 0 4]\n",
            " [4 2 4]\n",
            " [2 3 2]\n",
            " [2 1 2]\n",
            " [0 1 4]\n",
            " [2 2 4]\n",
            " [1 0 0]\n",
            " [3 2 3]\n",
            " [0 4 1]\n",
            " [0 2 4]]\n"
          ]
        }
      ],
      "source": [
        "Z = np.random.randint(0,5,(10,3))\n",
        "print(Z)\n",
        "# solution for arrays of all dtypes (including string arrays and record arrays)\n",
        "E = np.all(Z[:,1:] == Z[:,:-1], axis=1)\n",
        "U = Z[~E]\n",
        "print(U)\n",
        "# soluiton for numerical arrays only, will work for any number of columns in Z\n",
        "U = Z[Z.max(axis=1) != Z.min(axis=1),:]\n",
        "print(U)"
      ]
    },
    {
      "cell_type": "markdown",
      "metadata": {
        "id": "Z1-Yl6C4uFdC"
      },
      "source": [
        "#### 95. Convert a vector of ints into a matrix binary representation (★★★) \n",
        "(**hint**: np.unpackbits)"
      ]
    },
    {
      "cell_type": "code",
      "execution_count": 67,
      "metadata": {
        "id": "SLKJgftOuFdC",
        "colab": {
          "base_uri": "https://localhost:8080/"
        },
        "outputId": "b1a8d1ef-fcf5-4f9f-cfef-185514edd330"
      },
      "outputs": [
        {
          "output_type": "stream",
          "name": "stdout",
          "text": [
            "[[0 0 0 0 0 0 0 0]\n",
            " [0 0 0 0 0 0 0 1]\n",
            " [0 0 0 0 0 0 1 0]\n",
            " [0 0 0 0 0 0 1 1]\n",
            " [0 0 0 0 1 1 1 1]\n",
            " [0 0 0 1 0 0 0 0]\n",
            " [0 0 1 0 0 0 0 0]\n",
            " [0 1 0 0 0 0 0 0]\n",
            " [1 0 0 0 0 0 0 0]]\n",
            "[[0 0 0 0 0 0 0 0]\n",
            " [0 0 0 0 0 0 0 1]\n",
            " [0 0 0 0 0 0 1 0]\n",
            " [0 0 0 0 0 0 1 1]\n",
            " [0 0 0 0 1 1 1 1]\n",
            " [0 0 0 1 0 0 0 0]\n",
            " [0 0 1 0 0 0 0 0]\n",
            " [0 1 0 0 0 0 0 0]\n",
            " [1 0 0 0 0 0 0 0]]\n"
          ]
        }
      ],
      "source": [
        "I = np.array([0, 1, 2, 3, 15, 16, 32, 64, 128])\n",
        "B = ((I.reshape(-1,1) & (2**np.arange(8))) != 0).astype(int)\n",
        "print(B[:,::-1])\n",
        "\n",
        "# Author: Daniel T. McDonald\n",
        "\n",
        "I = np.array([0, 1, 2, 3, 15, 16, 32, 64, 128], dtype=np.uint8)\n",
        "print(np.unpackbits(I[:, np.newaxis], axis=1))"
      ]
    },
    {
      "cell_type": "markdown",
      "metadata": {
        "id": "mAXXF4sKuFdD"
      },
      "source": [
        "#### 96. Given a two dimensional array, how to extract unique rows? (★★★) \n",
        "(**hint**: np.ascontiguousarray)"
      ]
    },
    {
      "cell_type": "code",
      "execution_count": 68,
      "metadata": {
        "id": "5eAMSXFKuFdD",
        "colab": {
          "base_uri": "https://localhost:8080/"
        },
        "outputId": "f383264a-b816-49d3-f466-2e6076d3898b"
      },
      "outputs": [
        {
          "output_type": "stream",
          "name": "stdout",
          "text": [
            "[[0 0 0]\n",
            " [0 1 0]\n",
            " [1 0 0]\n",
            " [1 0 1]]\n",
            "[[0 0 0]\n",
            " [0 1 0]\n",
            " [1 0 0]\n",
            " [1 0 1]]\n"
          ]
        }
      ],
      "source": [
        "Z = np.random.randint(0,2,(6,3))\n",
        "T = np.ascontiguousarray(Z).view(np.dtype((np.void, Z.dtype.itemsize * Z.shape[1])))\n",
        "_, idx = np.unique(T, return_index=True)\n",
        "uZ = Z[idx]\n",
        "print(uZ)\n",
        "\n",
        "# Author: Andreas Kouzelis\n",
        "# NumPy >= 1.13\n",
        "uZ = np.unique(Z, axis=0)\n",
        "print(uZ)"
      ]
    },
    {
      "cell_type": "markdown",
      "metadata": {
        "id": "DyymvcROuFdD"
      },
      "source": [
        "#### 97. Considering 2 vectors A & B, write the einsum equivalent of inner, outer, sum, and mul function (★★★) \n",
        "(**hint**: np.einsum)"
      ]
    },
    {
      "cell_type": "code",
      "execution_count": 69,
      "metadata": {
        "id": "b5jF_ivYuFdE",
        "colab": {
          "base_uri": "https://localhost:8080/"
        },
        "outputId": "6adb3da7-a0eb-4588-87f2-bf2ae9fcef99"
      },
      "outputs": [
        {
          "output_type": "execute_result",
          "data": {
            "text/plain": [
              "array([[0.48997081, 0.46387287, 0.32283907, 0.28844202, 0.33107529,\n",
              "        0.03313807, 0.54123764, 0.09926235, 0.42307767, 0.26139359],\n",
              "       [0.1086031 , 0.10281844, 0.07155799, 0.06393381, 0.07338356,\n",
              "        0.00734513, 0.11996651, 0.02200172, 0.09377609, 0.05793846],\n",
              "       [0.76662415, 0.72579048, 0.50512444, 0.4513057 , 0.51801109,\n",
              "        0.05184889, 0.84683788, 0.15530908, 0.66196098, 0.40898485],\n",
              "       [0.4834636 , 0.45771227, 0.31855151, 0.28461128, 0.32667834,\n",
              "        0.03269797, 0.53404956, 0.09794407, 0.41745885, 0.25792207],\n",
              "       [0.25842604, 0.24466117, 0.1702755 , 0.15213341, 0.17461954,\n",
              "        0.01747806, 0.28546578, 0.05235409, 0.22314449, 0.13786722],\n",
              "       [0.10356857, 0.09805207, 0.06824076, 0.06097002, 0.06998171,\n",
              "        0.00700463, 0.1144052 , 0.02098178, 0.0894289 , 0.0552526 ],\n",
              "       [0.39098873, 0.370163  , 0.25762032, 0.23017204, 0.26419269,\n",
              "        0.02644364, 0.43189882, 0.07920974, 0.33760909, 0.20858783],\n",
              "       [0.01463729, 0.01385764, 0.00964443, 0.00861686, 0.00989047,\n",
              "        0.00098996, 0.01616882, 0.00296534, 0.01263893, 0.00780882],\n",
              "       [0.04308517, 0.04079027, 0.02838858, 0.02536391, 0.02911283,\n",
              "        0.00291397, 0.04759328, 0.00872855, 0.03720298, 0.02298543],\n",
              "       [0.40564213, 0.3840359 , 0.26727537, 0.23879838, 0.27409405,\n",
              "        0.02743469, 0.44808544, 0.08217835, 0.35026194, 0.21640524]])"
            ]
          },
          "metadata": {},
          "execution_count": 69
        }
      ],
      "source": [
        "A = np.random.uniform(0,1,10)\n",
        "B = np.random.uniform(0,1,10)\n",
        "\n",
        "np.einsum('i->', A)       # np.sum(A)\n",
        "np.einsum('i,i->i', A, B) # A * B\n",
        "np.einsum('i,i', A, B)    # np.inner(A, B)\n",
        "np.einsum('i,j->ij', A, B)    # np.outer(A, B)"
      ]
    },
    {
      "cell_type": "markdown",
      "metadata": {
        "id": "Dfuo4FDluFdE"
      },
      "source": [
        "#### 98. Considering a path described by two vectors (X,Y), how to sample it using equidistant samples (★★★)? \n",
        "(**hint**: np.cumsum, np.interp)"
      ]
    },
    {
      "cell_type": "code",
      "execution_count": 70,
      "metadata": {
        "collapsed": true,
        "id": "NOzJ2CJcuFdE"
      },
      "outputs": [],
      "source": [
        "phi = np.arange(0, 10*np.pi, 0.1)\n",
        "a = 1\n",
        "x = a*phi*np.cos(phi)\n",
        "y = a*phi*np.sin(phi)\n",
        "\n",
        "dr = (np.diff(x)**2 + np.diff(y)**2)**.5 # segment lengths\n",
        "r = np.zeros_like(x)\n",
        "r[1:] = np.cumsum(dr)                # integrate path\n",
        "r_int = np.linspace(0, r.max(), 200) # regular spaced path\n",
        "x_int = np.interp(r_int, r, x)       # integrate path\n",
        "y_int = np.interp(r_int, r, y)"
      ]
    },
    {
      "cell_type": "markdown",
      "metadata": {
        "id": "r9mGl5hBuFdE"
      },
      "source": [
        "#### 99. Given an integer n and a 2D array X, select from X the rows which can be interpreted as draws from a multinomial distribution with n degrees, i.e., the rows which only contain integers and which sum to n. (★★★) \n",
        "(**hint**: np.logical\\_and.reduce, np.mod)"
      ]
    },
    {
      "cell_type": "code",
      "execution_count": 71,
      "metadata": {
        "id": "b6uJ7mXGuFdF",
        "colab": {
          "base_uri": "https://localhost:8080/"
        },
        "outputId": "81bf5db2-fd2a-4ed6-a295-e1170680fe4d"
      },
      "outputs": [
        {
          "output_type": "stream",
          "name": "stdout",
          "text": [
            "[[2. 0. 1. 1.]]\n"
          ]
        }
      ],
      "source": [
        "X = np.asarray([[1.0, 0.0, 3.0, 8.0],\n",
        "                [2.0, 0.0, 1.0, 1.0],\n",
        "                [1.5, 2.5, 1.0, 0.0]])\n",
        "n = 4\n",
        "M = np.logical_and.reduce(np.mod(X, 1) == 0, axis=-1)\n",
        "M &= (X.sum(axis=-1) == n)\n",
        "print(X[M])"
      ]
    },
    {
      "cell_type": "markdown",
      "metadata": {
        "id": "bx5cJdsPuFdF"
      },
      "source": [
        "#### 100. Compute bootstrapped 95% confidence intervals for the mean of a 1D array X (i.e., resample the elements of an array with replacement N times, compute the mean of each sample, and then compute percentiles over the means). (★★★) \n",
        "(**hint**: np.percentile)"
      ]
    },
    {
      "cell_type": "code",
      "execution_count": 72,
      "metadata": {
        "id": "YxMW33DOuFdF",
        "colab": {
          "base_uri": "https://localhost:8080/"
        },
        "outputId": "49a40da8-9807-4ce5-b933-b5535e5baf4d"
      },
      "outputs": [
        {
          "output_type": "stream",
          "name": "stdout",
          "text": [
            "[-0.31114548  0.07596287]\n"
          ]
        }
      ],
      "source": [
        "X = np.random.randn(100) # random 1D array\n",
        "N = 1000 # number of bootstrap samples\n",
        "idx = np.random.randint(0, X.size, (N, X.size))\n",
        "means = X[idx].mean(axis=1)\n",
        "confint = np.percentile(means, [2.5, 97.5])\n",
        "print(confint)"
      ]
    },
    {
      "cell_type": "code",
      "source": [],
      "metadata": {
        "id": "LCiichUoDsJK"
      },
      "execution_count": null,
      "outputs": []
    }
  ],
  "metadata": {
    "kernelspec": {
      "display_name": "Python 3",
      "language": "python",
      "name": "python3"
    },
    "language_info": {
      "codemirror_mode": {
        "name": "ipython",
        "version": 3
      },
      "file_extension": ".py",
      "mimetype": "text/x-python",
      "name": "python",
      "nbconvert_exporter": "python",
      "pygments_lexer": "ipython3",
      "version": "3.8.3"
    },
    "colab": {
      "provenance": [],
      "collapsed_sections": [
        "RetFJjOZuFcR",
        "7yI8dKEVuFcV",
        "recMm7JtuFcW",
        "TREY6ETxuFcX",
        "eblrkJ0ZuFcY",
        "tgukQHICuFcZ",
        "wEMr54L-uFca",
        "kxhSoy8HuFca",
        "F_YsWuSzuFcb",
        "-xaC1bMruFcc",
        "CmxVESLeuFcc",
        "BkOJIiBYuFcd",
        "MXgNAq5DuFcd",
        "7EDGKP7LuFce",
        "ZMtmxtlGuFce",
        "g4cVFuyjuFcf",
        "TBnovL58uFcf",
        "soxmdUGmuFcf",
        "bpqznNkyuFcg",
        "JGg5rEF2uFcg",
        "sab-9buOuFch",
        "tzRqVbzJuFch",
        "Xi9GC9jWuFci",
        "82HuabEAuFcj",
        "Y9N4HkFcuFck",
        "Vb1KCKXfuFcl",
        "4zBA5ASZuFcm",
        "23dGjsRduFcn",
        "lac7pUq5uFcn",
        "OM8qxOLiuFco",
        "4Cv4K0LyuFco",
        "D1JG0zNbuFco",
        "HLjFaf8luFcp",
        "yR2dB0XnuFcp",
        "a5Wl3CRtuFcq",
        "ZYQbOhlruFcq",
        "_W1iKQ1quFcr",
        "AAHXlIPauFcs",
        "XTvrhr7zuFct",
        "a3-bUi2huFcu",
        "FCLvhNjOuFcv",
        "GXiTyYnGuFcv",
        "DVZcLsgvuFcw",
        "T7EsbeMpuFcx",
        "4IZ4Y1_RuFcz",
        "pqPNEeucuFc0",
        "Pw3c1OWiuFc2",
        "jFy9ApSguFc3",
        "JzYE-ZGKuFc4",
        "UneznQFuuFc5",
        "c7Itq1U3uFc6",
        "F5sxpxocuFc6",
        "a7fkNF3duFc7",
        "eSbxnW_fuFc8",
        "8DMaQfDPuFc8",
        "97KilEC4uFc9",
        "xS9dykcruFc-",
        "YlrX5VJOuFc-",
        "4anVfRqcuFc_",
        "hY65VUk_uFc_",
        "V4dBQTPiuFdA",
        "eKsHEkXruFdB",
        "j5nke5aQuFdB",
        "EjyPHrd6uFdC",
        "Z1-Yl6C4uFdC",
        "mAXXF4sKuFdD",
        "DyymvcROuFdD",
        "Dfuo4FDluFdE",
        "r9mGl5hBuFdE",
        "bx5cJdsPuFdF"
      ],
      "include_colab_link": true
    }
  },
  "nbformat": 4,
  "nbformat_minor": 0
}